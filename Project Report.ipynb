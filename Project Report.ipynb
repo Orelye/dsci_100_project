{
 "cells": [
  {
   "cell_type": "markdown",
   "id": "78546986-387d-4049-b84c-366fc0c426b4",
   "metadata": {},
   "source": [
    "# Introduction"
   ]
  },
  {
   "cell_type": "markdown",
   "id": "c4431e43-11cf-483d-9641-a19aed02bd1b",
   "metadata": {},
   "source": [
    "A UBC research group is conducting a study that analyzes how people play video games. So they set up a Minecraft server, and collected data on all the players that signed up to play. We were given two data sets, one with information of players (players.csv), and another with information of play sessions (session.csv). \n",
    "\n",
    "For our project, we try to answer the question: **what \"kinds\" of players are most likely to contribute a large amount of data?** We want to look at information about the players and see if we can build some sort of model that can predict their playtime. To do this, we only require the players.csv dataset, since we are only concerned with information about players. \n",
    "\n",
    "This dataset has 196 observations, each corresponding to an individual player. It consists of 9 variables, 2 of which - *individualId* and *organizationName* - contain no values for any observation (probably for the purpose of user confidentiality). So, we consider 7 of the 9 variables:\n",
    "\n",
    "- *experience:* This variable is of type character and its values in the data are one of 'Beginner',  'Amateur', 'Regular', 'Pro', or 'Veteran'. This represents the player's experience. \n",
    "- *subscribe:* This variable is of type logical vector, and its values are either TRUE or FALSE.\n",
    "- *hashedEmail:* This variable is of type character, and it represents the player's email in a hashed form.\n",
    "- *played_hours:* This variable is of type double, and it represents the number of hours a player has played.\n",
    "- *name:* This variable is of type character, and holds the player's name.\n",
    "- *gender:* This variable is of type character, and its values in the data are one of 'Male', 'Female', 'Non-Binary', 'Agender', 'Two-Spirited', 'Other', and 'Prefer not to say'.\n",
    "- *age:* This variable is of type double, and it represents the player's age.\n",
    "\n",
    "Taking a first look at this data, we would definitely want to turn the *experience* and *gender* variables into factors, if we were to use them for prediction. The data for *played_hours* was probably collected using an automated system that records the number of hours each player has played. For the rest of the variables, the players inputted the information themselves. Therefore, we'd have to consider the biases of the values inputted. Furthermore, *experience* is subjective to the rationale of the player, so there could be two players with similar experience levels who have selected different options for experience."
   ]
  },
  {
   "cell_type": "markdown",
   "id": "0fee4590-6433-4f8c-99ce-602b62943fb7",
   "metadata": {},
   "source": [
    "# Methods and Results"
   ]
  },
  {
   "cell_type": "markdown",
   "id": "d9214634-b5af-4b4a-8afc-c0883118f89b",
   "metadata": {},
   "source": [
    "We want to use the variables *age* and *experience* to attempt to predict *played_hours*. We plan to build 2 different models, using the following methods: knn classification and knn regression. Then, we will analyze the strength of each model."
   ]
  },
  {
   "cell_type": "markdown",
   "id": "ea00ec90-6aed-4b1b-ba24-cf17595d26fa",
   "metadata": {},
   "source": [
    "# Discussion"
   ]
  },
  {
   "cell_type": "markdown",
   "id": "be6929ba-27b7-4b3e-8f3d-35c67beab6ec",
   "metadata": {},
   "source": [
    "**Knn Classification**\n",
    "\n",
    "After testing the model we trained, we found that it yielded a surprisingly high accuracy of about 0.80. We didn't expect age and experience to be very strong predictors of played_hours so we were suspicious about these results. \n",
    "\n",
    "To investigate this, we looked at the testing data (with predicted class) and added a new column of type boolean, that returns true if the predicted class was correct and false if the predicted class was incorrect. Plotting this data, we found that for all observations with a high played_hours, our model predicted incorrectly. We further investigated this by creating a summary table with groups of predicted class and values of count, to analyze the number of times our model made a prediction for each group. Looking at the results, we found that for our testing set of 49 observations, our model predicted (-inf, 1] played hours for 48 of them. The reason why our accuracy was so high was because the majority of our testing set was players in the (-inf, 1] played hours range.\n",
    "\n",
    "The reason our model turned out this way is because when we transformed our played_hours variable into a categorical variable through binning, the bins were very unequal in number of observations. This scenario is not easy to work around, given our data set. While we arbitrarily set the number of bins and size of each bin, there is no way to create bins of similar numbers of observations. The original data set had a very large number of players who played under 1 hour. \n",
    "\n",
    "While one may suggest remodifying the data to exclude observations of players with 0 hours played, it wouldn't help us answer our main question for this project. Since we are interested in which players would contribute large amounts of hours, in converse, we care about which players wouldn't contribute large amounts of hours. Hence, it wouldn't make sense to discard data of players who didn't play.\n",
    "\n",
    "A better solution would have been to perform knn classification with a non-linear weight function. We used \"rectangular\" for our model. However, the weight function should've been weighted to account for the imbalance in numbers of observations per class.\n",
    "\n",
    "**Knn Regression**\n",
    "\n",
    "When we plot our knn regression predictions as a line over our data, it appears to be a very weak model that just predicts somewhere near the mean played hours.\n",
    "\n",
    "Knn regression yielded an RMSE of around 8 and a RMSPE of around 54. This disparity in RMSE vs RMSPE reflects a very weak model, since its predictions have much larger errors when ran on new data compared to the training data. This can most likely be explained by the underfit our model. We chose k based on values of k that gave us the lowest RMSE, but as a result we ended up with a very high k = 110. The RMSE is low because we chose the k with the lowest RMSE, however this model is very underfit (it is basically fit to the mean of the training data). Hence, when we have a different data set with a different mean, our model would be expected to yield a large error for a significant portion of the testing data.\n",
    "\n",
    "Although we recognize that we chose a k that is too high for our model, there is no simple solution, since that was the k that gave us the lowest RMSE. When we plot RMSE vs k, we find that the RMSE generally decreases as k increases. There is no point where RMSE starts to increase. This suggests that maybe age and experience are not good predictors of hours played, since it would give us the least error if the model just predicts the mean hours_played for every observation, regardless of what the predictor variables are. \n",
    "\n",
    "One way we could've chosen a better k would be to consider the RMSE vs k plot again, but choose the k where the RMSE starts decreasing at an insignificant amount, based on our judgement. Looking at our RMSE vs k plot with this perspective, we probably would have gone with a k of around 14.\n",
    "\n",
    "**Further Discussion**\n",
    "\n",
    "We conclude that age and experience are not very good predictors of played hours. Therefore, the data we are given is insufficient in being able to answer the question of what \"kinds\" of players are likely to contribute large amounts of data. Therefore, we think that the researchers should consider more factors (variables) about the players, and collect data on those. This could be done by adding more questions for the players when they sign up, or by collecting data based on in-game behavior associated with the player. \n",
    "\n",
    "Here are potential ideas for factors that might be useful for predicting play time:\n",
    "- geographical location\n",
    "- preferred leisure activities\n",
    "- amount of free time per week\n",
    "- reason for signing up\n",
    "- engagement in gaming communities\n",
    "- other in-game behaviors\n"
   ]
  }
 ],
 "metadata": {
  "kernelspec": {
   "display_name": "R",
   "language": "R",
   "name": "ir"
  },
  "language_info": {
   "codemirror_mode": "r",
   "file_extension": ".r",
   "mimetype": "text/x-r-source",
   "name": "R",
   "pygments_lexer": "r",
   "version": "4.3.3"
  }
 },
 "nbformat": 4,
 "nbformat_minor": 5
}
