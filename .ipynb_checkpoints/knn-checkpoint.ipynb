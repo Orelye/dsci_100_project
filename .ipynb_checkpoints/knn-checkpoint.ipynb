{
 "cells": [
  {
   "cell_type": "code",
   "execution_count": 1,
   "id": "07d8b6a2-a725-4919-90dd-400686a2836a",
   "metadata": {},
   "outputs": [
    {
     "name": "stderr",
     "output_type": "stream",
     "text": [
      "── \u001b[1mAttaching core tidyverse packages\u001b[22m ──────────────────────── tidyverse 2.0.0 ──\n",
      "\u001b[32m✔\u001b[39m \u001b[34mdplyr    \u001b[39m 1.1.4     \u001b[32m✔\u001b[39m \u001b[34mreadr    \u001b[39m 2.1.5\n",
      "\u001b[32m✔\u001b[39m \u001b[34mforcats  \u001b[39m 1.0.0     \u001b[32m✔\u001b[39m \u001b[34mstringr  \u001b[39m 1.5.1\n",
      "\u001b[32m✔\u001b[39m \u001b[34mggplot2  \u001b[39m 3.5.1     \u001b[32m✔\u001b[39m \u001b[34mtibble   \u001b[39m 3.2.1\n",
      "\u001b[32m✔\u001b[39m \u001b[34mlubridate\u001b[39m 1.9.3     \u001b[32m✔\u001b[39m \u001b[34mtidyr    \u001b[39m 1.3.1\n",
      "\u001b[32m✔\u001b[39m \u001b[34mpurrr    \u001b[39m 1.0.2     \n",
      "── \u001b[1mConflicts\u001b[22m ────────────────────────────────────────── tidyverse_conflicts() ──\n",
      "\u001b[31m✖\u001b[39m \u001b[34mdplyr\u001b[39m::\u001b[32mfilter()\u001b[39m masks \u001b[34mstats\u001b[39m::filter()\n",
      "\u001b[31m✖\u001b[39m \u001b[34mdplyr\u001b[39m::\u001b[32mlag()\u001b[39m    masks \u001b[34mstats\u001b[39m::lag()\n",
      "\u001b[36mℹ\u001b[39m Use the conflicted package (\u001b[3m\u001b[34m<http://conflicted.r-lib.org/>\u001b[39m\u001b[23m) to force all conflicts to become errors\n",
      "── \u001b[1mAttaching packages\u001b[22m ────────────────────────────────────── tidymodels 1.2.0 ──\n",
      "\n",
      "\u001b[32m✔\u001b[39m \u001b[34mbroom       \u001b[39m 1.0.7     \u001b[32m✔\u001b[39m \u001b[34mrsample     \u001b[39m 1.2.1\n",
      "\u001b[32m✔\u001b[39m \u001b[34mdials       \u001b[39m 1.3.0     \u001b[32m✔\u001b[39m \u001b[34mtune        \u001b[39m 1.2.1\n",
      "\u001b[32m✔\u001b[39m \u001b[34minfer       \u001b[39m 1.0.7     \u001b[32m✔\u001b[39m \u001b[34mworkflows   \u001b[39m 1.1.4\n",
      "\u001b[32m✔\u001b[39m \u001b[34mmodeldata   \u001b[39m 1.4.0     \u001b[32m✔\u001b[39m \u001b[34mworkflowsets\u001b[39m 1.1.0\n",
      "\u001b[32m✔\u001b[39m \u001b[34mparsnip     \u001b[39m 1.2.1     \u001b[32m✔\u001b[39m \u001b[34myardstick   \u001b[39m 1.3.1\n",
      "\u001b[32m✔\u001b[39m \u001b[34mrecipes     \u001b[39m 1.1.0     \n",
      "\n",
      "── \u001b[1mConflicts\u001b[22m ───────────────────────────────────────── tidymodels_conflicts() ──\n",
      "\u001b[31m✖\u001b[39m \u001b[34mscales\u001b[39m::\u001b[32mdiscard()\u001b[39m masks \u001b[34mpurrr\u001b[39m::discard()\n",
      "\u001b[31m✖\u001b[39m \u001b[34mdplyr\u001b[39m::\u001b[32mfilter()\u001b[39m   masks \u001b[34mstats\u001b[39m::filter()\n",
      "\u001b[31m✖\u001b[39m \u001b[34mrecipes\u001b[39m::\u001b[32mfixed()\u001b[39m  masks \u001b[34mstringr\u001b[39m::fixed()\n",
      "\u001b[31m✖\u001b[39m \u001b[34mdplyr\u001b[39m::\u001b[32mlag()\u001b[39m      masks \u001b[34mstats\u001b[39m::lag()\n",
      "\u001b[31m✖\u001b[39m \u001b[34myardstick\u001b[39m::\u001b[32mspec()\u001b[39m masks \u001b[34mreadr\u001b[39m::spec()\n",
      "\u001b[31m✖\u001b[39m \u001b[34mrecipes\u001b[39m::\u001b[32mstep()\u001b[39m   masks \u001b[34mstats\u001b[39m::step()\n",
      "\u001b[34m•\u001b[39m Use suppressPackageStartupMessages() to eliminate package startup messages\n",
      "\n"
     ]
    }
   ],
   "source": [
    "library(tidyverse)\n",
    "library(repr)\n",
    "library(tidymodels)\n",
    "options(repr.matrix.max.rows = 6)"
   ]
  },
  {
   "cell_type": "code",
   "execution_count": 2,
   "id": "c730f84e-2ebe-4989-a0a8-03d3933db0a4",
   "metadata": {},
   "outputs": [
    {
     "name": "stderr",
     "output_type": "stream",
     "text": [
      "\u001b[1mRows: \u001b[22m\u001b[34m196\u001b[39m \u001b[1mColumns: \u001b[22m\u001b[34m9\u001b[39m\n",
      "\u001b[36m──\u001b[39m \u001b[1mColumn specification\u001b[22m \u001b[36m────────────────────────────────────────────────────────\u001b[39m\n",
      "\u001b[1mDelimiter:\u001b[22m \",\"\n",
      "\u001b[31mchr\u001b[39m (4): experience, hashedEmail, name, gender\n",
      "\u001b[32mdbl\u001b[39m (2): played_hours, age\n",
      "\u001b[33mlgl\u001b[39m (3): subscribe, individualId, organizationName\n",
      "\n",
      "\u001b[36mℹ\u001b[39m Use `spec()` to retrieve the full column specification for this data.\n",
      "\u001b[36mℹ\u001b[39m Specify the column types or set `show_col_types = FALSE` to quiet this message.\n"
     ]
    },
    {
     "data": {
      "text/html": [
       "<table class=\"dataframe\">\n",
       "<caption>A tibble: 196 × 10</caption>\n",
       "<thead>\n",
       "\t<tr><th scope=col>experience</th><th scope=col>subscribe</th><th scope=col>hashedEmail</th><th scope=col>played_hours</th><th scope=col>name</th><th scope=col>gender</th><th scope=col>age</th><th scope=col>individualId</th><th scope=col>organizationName</th><th scope=col>cat_hours</th></tr>\n",
       "\t<tr><th scope=col>&lt;fct&gt;</th><th scope=col>&lt;lgl&gt;</th><th scope=col>&lt;chr&gt;</th><th scope=col>&lt;dbl&gt;</th><th scope=col>&lt;chr&gt;</th><th scope=col>&lt;chr&gt;</th><th scope=col>&lt;dbl&gt;</th><th scope=col>&lt;lgl&gt;</th><th scope=col>&lt;lgl&gt;</th><th scope=col>&lt;fct&gt;</th></tr>\n",
       "</thead>\n",
       "<tbody>\n",
       "\t<tr><td>Pro    </td><td> TRUE</td><td>f6daba428a5e19a3d47574858c13550499be23603422e6a0ee9728f8b53e192d</td><td>30.3</td><td>Morgan   </td><td>Male</td><td> 9</td><td>NA</td><td>NA</td><td>(30,40] </td></tr>\n",
       "\t<tr><td>Veteran</td><td> TRUE</td><td>f3c813577c458ba0dfef80996f8f32c93b6e8af1fa939732842f2312358a88e9</td><td> 3.8</td><td>Christian</td><td>Male</td><td>17</td><td>NA</td><td>NA</td><td>(3,5]   </td></tr>\n",
       "\t<tr><td>Veteran</td><td>FALSE</td><td>b674dd7ee0d24096d1c019615ce4d12b20fcbff12d79d3c5a9d2118eb7ccbb28</td><td> 0.0</td><td>Blake    </td><td>Male</td><td>17</td><td>NA</td><td>NA</td><td>(-Inf,1]</td></tr>\n",
       "\t<tr><td>⋮</td><td>⋮</td><td>⋮</td><td>⋮</td><td>⋮</td><td>⋮</td><td>⋮</td><td>⋮</td><td>⋮</td><td>⋮</td></tr>\n",
       "\t<tr><td>Amateur</td><td>FALSE</td><td>d572f391d452b76ea2d7e5e53a3d38bfd7499c7399db299bd4fedb06a46ad5bb</td><td>0.0</td><td>Dylan </td><td>Prefer not to say</td><td>17</td><td>NA</td><td>NA</td><td>(-Inf,1]</td></tr>\n",
       "\t<tr><td>Amateur</td><td>FALSE</td><td>f19e136ddde68f365afc860c725ccff54307dedd13968e896a9f890c40aea436</td><td>2.3</td><td>Harlow</td><td>Male             </td><td>17</td><td>NA</td><td>NA</td><td>(1,3]   </td></tr>\n",
       "\t<tr><td>Pro    </td><td> TRUE</td><td>d9473710057f7d42f36570f0be83817a4eea614029ff90cf50d8889cdd729d11</td><td>0.2</td><td>Ahmed </td><td>Other            </td><td>91</td><td>NA</td><td>NA</td><td>(-Inf,1]</td></tr>\n",
       "</tbody>\n",
       "</table>\n"
      ],
      "text/latex": [
       "A tibble: 196 × 10\n",
       "\\begin{tabular}{llllllllll}\n",
       " experience & subscribe & hashedEmail & played\\_hours & name & gender & age & individualId & organizationName & cat\\_hours\\\\\n",
       " <fct> & <lgl> & <chr> & <dbl> & <chr> & <chr> & <dbl> & <lgl> & <lgl> & <fct>\\\\\n",
       "\\hline\n",
       "\t Pro     &  TRUE & f6daba428a5e19a3d47574858c13550499be23603422e6a0ee9728f8b53e192d & 30.3 & Morgan    & Male &  9 & NA & NA & (30,40{]} \\\\\n",
       "\t Veteran &  TRUE & f3c813577c458ba0dfef80996f8f32c93b6e8af1fa939732842f2312358a88e9 &  3.8 & Christian & Male & 17 & NA & NA & (3,5{]}   \\\\\n",
       "\t Veteran & FALSE & b674dd7ee0d24096d1c019615ce4d12b20fcbff12d79d3c5a9d2118eb7ccbb28 &  0.0 & Blake     & Male & 17 & NA & NA & (-Inf,1{]}\\\\\n",
       "\t ⋮ & ⋮ & ⋮ & ⋮ & ⋮ & ⋮ & ⋮ & ⋮ & ⋮ & ⋮\\\\\n",
       "\t Amateur & FALSE & d572f391d452b76ea2d7e5e53a3d38bfd7499c7399db299bd4fedb06a46ad5bb & 0.0 & Dylan  & Prefer not to say & 17 & NA & NA & (-Inf,1{]}\\\\\n",
       "\t Amateur & FALSE & f19e136ddde68f365afc860c725ccff54307dedd13968e896a9f890c40aea436 & 2.3 & Harlow & Male              & 17 & NA & NA & (1,3{]}   \\\\\n",
       "\t Pro     &  TRUE & d9473710057f7d42f36570f0be83817a4eea614029ff90cf50d8889cdd729d11 & 0.2 & Ahmed  & Other             & 91 & NA & NA & (-Inf,1{]}\\\\\n",
       "\\end{tabular}\n"
      ],
      "text/markdown": [
       "\n",
       "A tibble: 196 × 10\n",
       "\n",
       "| experience &lt;fct&gt; | subscribe &lt;lgl&gt; | hashedEmail &lt;chr&gt; | played_hours &lt;dbl&gt; | name &lt;chr&gt; | gender &lt;chr&gt; | age &lt;dbl&gt; | individualId &lt;lgl&gt; | organizationName &lt;lgl&gt; | cat_hours &lt;fct&gt; |\n",
       "|---|---|---|---|---|---|---|---|---|---|\n",
       "| Pro     |  TRUE | f6daba428a5e19a3d47574858c13550499be23603422e6a0ee9728f8b53e192d | 30.3 | Morgan    | Male |  9 | NA | NA | (30,40]  |\n",
       "| Veteran |  TRUE | f3c813577c458ba0dfef80996f8f32c93b6e8af1fa939732842f2312358a88e9 |  3.8 | Christian | Male | 17 | NA | NA | (3,5]    |\n",
       "| Veteran | FALSE | b674dd7ee0d24096d1c019615ce4d12b20fcbff12d79d3c5a9d2118eb7ccbb28 |  0.0 | Blake     | Male | 17 | NA | NA | (-Inf,1] |\n",
       "| ⋮ | ⋮ | ⋮ | ⋮ | ⋮ | ⋮ | ⋮ | ⋮ | ⋮ | ⋮ |\n",
       "| Amateur | FALSE | d572f391d452b76ea2d7e5e53a3d38bfd7499c7399db299bd4fedb06a46ad5bb | 0.0 | Dylan  | Prefer not to say | 17 | NA | NA | (-Inf,1] |\n",
       "| Amateur | FALSE | f19e136ddde68f365afc860c725ccff54307dedd13968e896a9f890c40aea436 | 2.3 | Harlow | Male              | 17 | NA | NA | (1,3]    |\n",
       "| Pro     |  TRUE | d9473710057f7d42f36570f0be83817a4eea614029ff90cf50d8889cdd729d11 | 0.2 | Ahmed  | Other             | 91 | NA | NA | (-Inf,1] |\n",
       "\n"
      ],
      "text/plain": [
       "    experience subscribe\n",
       "1   Pro         TRUE    \n",
       "2   Veteran     TRUE    \n",
       "3   Veteran    FALSE    \n",
       "⋮   ⋮          ⋮        \n",
       "194 Amateur    FALSE    \n",
       "195 Amateur    FALSE    \n",
       "196 Pro         TRUE    \n",
       "    hashedEmail                                                     \n",
       "1   f6daba428a5e19a3d47574858c13550499be23603422e6a0ee9728f8b53e192d\n",
       "2   f3c813577c458ba0dfef80996f8f32c93b6e8af1fa939732842f2312358a88e9\n",
       "3   b674dd7ee0d24096d1c019615ce4d12b20fcbff12d79d3c5a9d2118eb7ccbb28\n",
       "⋮   ⋮                                                               \n",
       "194 d572f391d452b76ea2d7e5e53a3d38bfd7499c7399db299bd4fedb06a46ad5bb\n",
       "195 f19e136ddde68f365afc860c725ccff54307dedd13968e896a9f890c40aea436\n",
       "196 d9473710057f7d42f36570f0be83817a4eea614029ff90cf50d8889cdd729d11\n",
       "    played_hours name      gender            age individualId organizationName\n",
       "1   30.3         Morgan    Male               9  NA           NA              \n",
       "2    3.8         Christian Male              17  NA           NA              \n",
       "3    0.0         Blake     Male              17  NA           NA              \n",
       "⋮   ⋮            ⋮         ⋮                 ⋮   ⋮            ⋮               \n",
       "194 0.0          Dylan     Prefer not to say 17  NA           NA              \n",
       "195 2.3          Harlow    Male              17  NA           NA              \n",
       "196 0.2          Ahmed     Other             91  NA           NA              \n",
       "    cat_hours\n",
       "1   (30,40]  \n",
       "2   (3,5]    \n",
       "3   (-Inf,1] \n",
       "⋮   ⋮        \n",
       "194 (-Inf,1] \n",
       "195 (1,3]    \n",
       "196 (-Inf,1] "
      ]
     },
     "metadata": {},
     "output_type": "display_data"
    }
   ],
   "source": [
    "player_data <- read_csv(\"data/players.csv\") |>\n",
    "    mutate(experience = as.factor(experience))\n",
    "\n",
    "player_data <- player_data |> \n",
    "    mutate(cat_hours = cut(played_hours, breaks = c(-Inf,1,3,5,10, 15, 20, 30, 40, 50, 60, 70, 80, 90, 100, 150, 200, Inf)))\n",
    "\n",
    "player_data"
   ]
  },
  {
   "cell_type": "code",
   "execution_count": 3,
   "id": "33ea5a53-e11e-49e2-a53e-5a8164bcd4e1",
   "metadata": {},
   "outputs": [],
   "source": [
    "set.seed(3456) \n",
    "\n",
    "hours_split <- initial_split(player_data, prop = 0.75, strata = cat_hours)  \n",
    "hours_train <- training(hours_split)   \n",
    "hours_test <- testing(hours_split)"
   ]
  },
  {
   "cell_type": "code",
   "execution_count": 4,
   "id": "768f9495-b0d9-4e99-9966-7913e7a4f4d4",
   "metadata": {},
   "outputs": [
    {
     "name": "stderr",
     "output_type": "stream",
     "text": [
      "→ \u001b[33m\u001b[1mA\u001b[22m\u001b[39m | \u001b[33mwarning\u001b[39m: \u001b[1m\u001b[22m\u001b[31m✖\u001b[39m No observations were detected in `truth` for levels: (20,30], (30,40],\n",
      "                 (40,50], (50,60], (60,70], (70,80], (80,90], (90,100], (100,150], (150,200],\n",
      "                 and (200, Inf].\n",
      "               \u001b[36mℹ\u001b[39m Computation will proceed by ignoring those levels.\n",
      "\n",
      "There were issues with some computations   \u001b[1m\u001b[33mA\u001b[39m\u001b[22m: x1\u001b[K\n",
      "\u001b[K\n",
      "→ \u001b[33m\u001b[1mB\u001b[22m\u001b[39m | \u001b[33mwarning\u001b[39m: \u001b[1m\u001b[22m\u001b[31m✖\u001b[39m No observations were detected in `truth` for levels: (3,5], (10,15], (15,20],\n",
      "                 (20,30], (40,50], (50,60], (60,70], (70,80], (80,90], (90,100], (150,200],\n",
      "                 and (200, Inf].\n",
      "               \u001b[36mℹ\u001b[39m Computation will proceed by ignoring those levels.\n",
      "\n",
      "There were issues with some computations   \u001b[1m\u001b[33mA\u001b[39m\u001b[22m: x1\n",
      "There were issues with some computations   \u001b[1m\u001b[33mA\u001b[39m\u001b[22m: x1   \u001b[1m\u001b[33mB\u001b[39m\u001b[22m: x1\u001b[K\n",
      "\u001b[K\n",
      "→ \u001b[33m\u001b[1mC\u001b[22m\u001b[39m | \u001b[33mwarning\u001b[39m: \u001b[1m\u001b[22m\u001b[31m✖\u001b[39m No observations were detected in `truth` for levels: (3,5], (5,10], (10,15],\n",
      "                 (15,20], (20,30], (30,40], (40,50], (60,70], (70,80], (80,90], (90,100],\n",
      "                 (100,150], (150,200], and (200, Inf].\n",
      "               \u001b[36mℹ\u001b[39m Computation will proceed by ignoring those levels.\n",
      "\n",
      "There were issues with some computations   \u001b[1m\u001b[33mA\u001b[39m\u001b[22m: x1   \u001b[1m\u001b[33mB\u001b[39m\u001b[22m: x1\n",
      "There were issues with some computations   \u001b[1m\u001b[33mA\u001b[39m\u001b[22m: x1   \u001b[1m\u001b[33mB\u001b[39m\u001b[22m: x1   \u001b[1m\u001b[33mC\u001b[39m\u001b[22m: x1\u001b[K\n",
      "\u001b[K\n",
      "→ \u001b[33m\u001b[1mD\u001b[22m\u001b[39m | \u001b[33mwarning\u001b[39m: \u001b[1m\u001b[22m\u001b[31m✖\u001b[39m No observations were detected in `truth` for levels: (3,5], (5,10], (10,15],\n",
      "                 (15,20], (20,30], (40,50], (50,60], (60,70], (70,80], (80,90], (90,100], and\n",
      "                 (100,150].\n",
      "               \u001b[36mℹ\u001b[39m Computation will proceed by ignoring those levels.\n",
      "\n",
      "There were issues with some computations   \u001b[1m\u001b[33mA\u001b[39m\u001b[22m: x1   \u001b[1m\u001b[33mB\u001b[39m\u001b[22m: x1   \u001b[1m\u001b[33mC\u001b[39m\u001b[22m: x1\n",
      "There were issues with some computations   \u001b[1m\u001b[33mA\u001b[39m\u001b[22m: x1   \u001b[1m\u001b[33mB\u001b[39m\u001b[22m: x1   \u001b[1m\u001b[33mC\u001b[39m\u001b[22m: x1   \u001b[1m\u001b[33mD\u001b[39m\u001b[22m: x1\u001b[K\n",
      "\u001b[K\n",
      "→ \u001b[33m\u001b[1mE\u001b[22m\u001b[39m | \u001b[33mwarning\u001b[39m: \u001b[1m\u001b[22m\u001b[31m✖\u001b[39m No observations were detected in `truth` for levels: (3,5], (5,10], (10,15],\n",
      "                 (15,20], (20,30], (30,40], (40,50], (50,60], (60,70], (70,80], (80,90],\n",
      "                 (90,100], (100,150], and (150,200].\n",
      "               \u001b[36mℹ\u001b[39m Computation will proceed by ignoring those levels.\n",
      "\n",
      "There were issues with some computations   \u001b[1m\u001b[33mA\u001b[39m\u001b[22m: x1   \u001b[1m\u001b[33mB\u001b[39m\u001b[22m: x1   \u001b[1m\u001b[33mC\u001b[39m\u001b[22m: x1   \u001b[1m\u001b[33mD\u001b[39m\u001b[22m: x1\n",
      "There were issues with some computations   \u001b[1m\u001b[33mA\u001b[39m\u001b[22m: x1   \u001b[1m\u001b[33mB\u001b[39m\u001b[22m: x1   \u001b[1m\u001b[33mC\u001b[39m\u001b[22m: x1   \u001b[1m\u001b[33mD\u001b[39m\u001b[22m: x1   \u001b[1m\u001b[33mE\u001b[39m\u001b[22m: x1\u001b[K\n",
      "There were issues with some computations   \u001b[1m\u001b[33mA\u001b[39m\u001b[22m: x1   \u001b[1m\u001b[33mB\u001b[39m\u001b[22m: x1   \u001b[1m\u001b[33mC\u001b[39m\u001b[22m: x1   \u001b[1m\u001b[33mD\u001b[39m\u001b[22m: x1   \u001b[1m\u001b[33mE\u001b[39m\u001b[22m: x1\u001b[K\n",
      "\n",
      "\n"
     ]
    },
    {
     "data": {
      "text/html": [
       "<table class=\"dataframe\">\n",
       "<caption>A tibble: 30 × 7</caption>\n",
       "<thead>\n",
       "\t<tr><th scope=col>neighbors</th><th scope=col>.metric</th><th scope=col>.estimator</th><th scope=col>mean</th><th scope=col>n</th><th scope=col>std_err</th><th scope=col>.config</th></tr>\n",
       "\t<tr><th scope=col>&lt;dbl&gt;</th><th scope=col>&lt;chr&gt;</th><th scope=col>&lt;chr&gt;</th><th scope=col>&lt;dbl&gt;</th><th scope=col>&lt;int&gt;</th><th scope=col>&lt;dbl&gt;</th><th scope=col>&lt;chr&gt;</th></tr>\n",
       "</thead>\n",
       "<tbody>\n",
       "\t<tr><td>1</td><td>accuracy   </td><td>multiclass</td><td>0.6324959</td><td>5</td><td>0.04470166</td><td>Preprocessor1_Model01</td></tr>\n",
       "\t<tr><td>1</td><td>brier_class</td><td>multiclass</td><td>0.3675041</td><td>5</td><td>0.04470166</td><td>Preprocessor1_Model01</td></tr>\n",
       "\t<tr><td>1</td><td>roc_auc    </td><td>hand_till </td><td>0.4836709</td><td>5</td><td>0.01421689</td><td>Preprocessor1_Model01</td></tr>\n",
       "\t<tr><td>⋮</td><td>⋮</td><td>⋮</td><td>⋮</td><td>⋮</td><td>⋮</td><td>⋮</td></tr>\n",
       "\t<tr><td>10</td><td>accuracy   </td><td>multiclass</td><td>0.7962562</td><td>5</td><td>0.02363525</td><td>Preprocessor1_Model10</td></tr>\n",
       "\t<tr><td>10</td><td>brier_class</td><td>multiclass</td><td>0.1826366</td><td>5</td><td>0.01550590</td><td>Preprocessor1_Model10</td></tr>\n",
       "\t<tr><td>10</td><td>roc_auc    </td><td>hand_till </td><td>0.5348816</td><td>5</td><td>0.01343411</td><td>Preprocessor1_Model10</td></tr>\n",
       "</tbody>\n",
       "</table>\n"
      ],
      "text/latex": [
       "A tibble: 30 × 7\n",
       "\\begin{tabular}{lllllll}\n",
       " neighbors & .metric & .estimator & mean & n & std\\_err & .config\\\\\n",
       " <dbl> & <chr> & <chr> & <dbl> & <int> & <dbl> & <chr>\\\\\n",
       "\\hline\n",
       "\t 1 & accuracy    & multiclass & 0.6324959 & 5 & 0.04470166 & Preprocessor1\\_Model01\\\\\n",
       "\t 1 & brier\\_class & multiclass & 0.3675041 & 5 & 0.04470166 & Preprocessor1\\_Model01\\\\\n",
       "\t 1 & roc\\_auc     & hand\\_till  & 0.4836709 & 5 & 0.01421689 & Preprocessor1\\_Model01\\\\\n",
       "\t ⋮ & ⋮ & ⋮ & ⋮ & ⋮ & ⋮ & ⋮\\\\\n",
       "\t 10 & accuracy    & multiclass & 0.7962562 & 5 & 0.02363525 & Preprocessor1\\_Model10\\\\\n",
       "\t 10 & brier\\_class & multiclass & 0.1826366 & 5 & 0.01550590 & Preprocessor1\\_Model10\\\\\n",
       "\t 10 & roc\\_auc     & hand\\_till  & 0.5348816 & 5 & 0.01343411 & Preprocessor1\\_Model10\\\\\n",
       "\\end{tabular}\n"
      ],
      "text/markdown": [
       "\n",
       "A tibble: 30 × 7\n",
       "\n",
       "| neighbors &lt;dbl&gt; | .metric &lt;chr&gt; | .estimator &lt;chr&gt; | mean &lt;dbl&gt; | n &lt;int&gt; | std_err &lt;dbl&gt; | .config &lt;chr&gt; |\n",
       "|---|---|---|---|---|---|---|\n",
       "| 1 | accuracy    | multiclass | 0.6324959 | 5 | 0.04470166 | Preprocessor1_Model01 |\n",
       "| 1 | brier_class | multiclass | 0.3675041 | 5 | 0.04470166 | Preprocessor1_Model01 |\n",
       "| 1 | roc_auc     | hand_till  | 0.4836709 | 5 | 0.01421689 | Preprocessor1_Model01 |\n",
       "| ⋮ | ⋮ | ⋮ | ⋮ | ⋮ | ⋮ | ⋮ |\n",
       "| 10 | accuracy    | multiclass | 0.7962562 | 5 | 0.02363525 | Preprocessor1_Model10 |\n",
       "| 10 | brier_class | multiclass | 0.1826366 | 5 | 0.01550590 | Preprocessor1_Model10 |\n",
       "| 10 | roc_auc     | hand_till  | 0.5348816 | 5 | 0.01343411 | Preprocessor1_Model10 |\n",
       "\n"
      ],
      "text/plain": [
       "   neighbors .metric     .estimator mean      n std_err   \n",
       "1  1         accuracy    multiclass 0.6324959 5 0.04470166\n",
       "2  1         brier_class multiclass 0.3675041 5 0.04470166\n",
       "3  1         roc_auc     hand_till  0.4836709 5 0.01421689\n",
       "⋮  ⋮         ⋮           ⋮          ⋮         ⋮ ⋮         \n",
       "28 10        accuracy    multiclass 0.7962562 5 0.02363525\n",
       "29 10        brier_class multiclass 0.1826366 5 0.01550590\n",
       "30 10        roc_auc     hand_till  0.5348816 5 0.01343411\n",
       "   .config              \n",
       "1  Preprocessor1_Model01\n",
       "2  Preprocessor1_Model01\n",
       "3  Preprocessor1_Model01\n",
       "⋮  ⋮                    \n",
       "28 Preprocessor1_Model10\n",
       "29 Preprocessor1_Model10\n",
       "30 Preprocessor1_Model10"
      ]
     },
     "metadata": {},
     "output_type": "display_data"
    }
   ],
   "source": [
    "hours_recipe <- recipe(cat_hours ~ age + experience, data = hours_train) |>\n",
    "   step_scale(all_numeric_predictors()) |>\n",
    "   step_center(all_numeric_predictors())\n",
    "\n",
    "hours_vfold <- vfold_cv(hours_train, v = 5, strata = cat_hours)\n",
    "\n",
    "knn_tune <- nearest_neighbor(weight_func = \"rectangular\", neighbors = tune()) |>\n",
    "      set_engine(\"kknn\") |>\n",
    "      set_mode(\"classification\")\n",
    "\n",
    "k_vals <- tibble(neighbors = seq(from = 1, to = 10, by = 1))\n",
    "\n",
    "knn_results <- workflow() |>\n",
    "      add_recipe(hours_recipe) |>\n",
    "      add_model(knn_tune) |>\n",
    "      tune_grid(resamples = hours_vfold, grid = k_vals) |>\n",
    "      collect_metrics()\n",
    "\n",
    "knn_results"
   ]
  },
  {
   "cell_type": "code",
   "execution_count": 5,
   "id": "7ff33129-dda9-4fcf-af19-0780f5ad13fb",
   "metadata": {},
   "outputs": [
    {
     "data": {
      "text/html": [
       "<table class=\"dataframe\">\n",
       "<caption>A tibble: 1 × 7</caption>\n",
       "<thead>\n",
       "\t<tr><th scope=col>neighbors</th><th scope=col>.metric</th><th scope=col>.estimator</th><th scope=col>mean</th><th scope=col>n</th><th scope=col>std_err</th><th scope=col>.config</th></tr>\n",
       "\t<tr><th scope=col>&lt;dbl&gt;</th><th scope=col>&lt;chr&gt;</th><th scope=col>&lt;chr&gt;</th><th scope=col>&lt;dbl&gt;</th><th scope=col>&lt;int&gt;</th><th scope=col>&lt;dbl&gt;</th><th scope=col>&lt;chr&gt;</th></tr>\n",
       "</thead>\n",
       "<tbody>\n",
       "\t<tr><td>6</td><td>accuracy</td><td>multiclass</td><td>0.7962562</td><td>5</td><td>0.02363525</td><td>Preprocessor1_Model06</td></tr>\n",
       "</tbody>\n",
       "</table>\n"
      ],
      "text/latex": [
       "A tibble: 1 × 7\n",
       "\\begin{tabular}{lllllll}\n",
       " neighbors & .metric & .estimator & mean & n & std\\_err & .config\\\\\n",
       " <dbl> & <chr> & <chr> & <dbl> & <int> & <dbl> & <chr>\\\\\n",
       "\\hline\n",
       "\t 6 & accuracy & multiclass & 0.7962562 & 5 & 0.02363525 & Preprocessor1\\_Model06\\\\\n",
       "\\end{tabular}\n"
      ],
      "text/markdown": [
       "\n",
       "A tibble: 1 × 7\n",
       "\n",
       "| neighbors &lt;dbl&gt; | .metric &lt;chr&gt; | .estimator &lt;chr&gt; | mean &lt;dbl&gt; | n &lt;int&gt; | std_err &lt;dbl&gt; | .config &lt;chr&gt; |\n",
       "|---|---|---|---|---|---|---|\n",
       "| 6 | accuracy | multiclass | 0.7962562 | 5 | 0.02363525 | Preprocessor1_Model06 |\n",
       "\n"
      ],
      "text/plain": [
       "  neighbors .metric  .estimator mean      n std_err    .config              \n",
       "1 6         accuracy multiclass 0.7962562 5 0.02363525 Preprocessor1_Model06"
      ]
     },
     "metadata": {},
     "output_type": "display_data"
    },
    {
     "data": {
      "text/html": [
       "6"
      ],
      "text/latex": [
       "6"
      ],
      "text/markdown": [
       "6"
      ],
      "text/plain": [
       "[1] 6"
      ]
     },
     "metadata": {},
     "output_type": "display_data"
    },
    {
     "data": {
      "image/png": "[encoded data removed]",
      "text/plain": [
       "plot without title"
      ]
     },
     "metadata": {
      "image/png": {
       "height": 420,
       "width": 420
      }
     },
     "output_type": "display_data"
    }
   ],
   "source": [
    "accuracies <- knn_results |> \n",
    "      filter(.metric == \"accuracy\")\n",
    "\n",
    "accuracy_versus_k <- ggplot(accuracies, aes(x = neighbors, y = mean))+\n",
    "      geom_point() +\n",
    "      geom_line() +\n",
    "      labs(x = \"Neighbors\", y = \"Accuracy Estimate\") +\n",
    "      scale_x_continuous(breaks = seq(0, 14, by = 1)) +  # adjusting the x-axis\n",
    "      scale_y_continuous(limits = c(0.4, 1.0)) # adjusting the y-axis\n",
    "\n",
    "accuracy_versus_k\n",
    "\n",
    "best_accuracy_train <- accuracies |> \n",
    "  filter(mean == max(mean))  %>% slice(1)\n",
    "\n",
    "best_accuracy_train\n",
    "\n",
    "best_k <- best_accuracy_train$neighbors\n",
    "\n",
    "best_k"
   ]
  },
  {
   "cell_type": "code",
   "execution_count": 6,
   "id": "bea9c96b-95de-4e7d-93ae-7a71851889f3",
   "metadata": {},
   "outputs": [
    {
     "data": {
      "text/plain": [
       "══ Workflow [trained] ══════════════════════════════════════════════════════════\n",
       "\u001b[3mPreprocessor:\u001b[23m Recipe\n",
       "\u001b[3mModel:\u001b[23m nearest_neighbor()\n",
       "\n",
       "── Preprocessor ────────────────────────────────────────────────────────────────\n",
       "2 Recipe Steps\n",
       "\n",
       "• step_scale()\n",
       "• step_center()\n",
       "\n",
       "── Model ───────────────────────────────────────────────────────────────────────\n",
       "\n",
       "Call:\n",
       "kknn::train.kknn(formula = ..y ~ ., data = data, ks = min_rows(6,     data, 5), kernel = ~\"rectangular\")\n",
       "\n",
       "Type of response variable: nominal\n",
       "Minimal misclassification: 0.1836735\n",
       "Best kernel: rectangular\n",
       "Best k: 6"
      ]
     },
     "metadata": {},
     "output_type": "display_data"
    }
   ],
   "source": [
    "set.seed(2020)\n",
    "\n",
    "knn_hours <- nearest_neighbor(weight_func = \"rectangular\", neighbors = best_k) |>\n",
    "      set_engine(\"kknn\") |>\n",
    "      set_mode(\"classification\")\n",
    "\n",
    "hours_fit <- workflow() |>\n",
    "      add_recipe(hours_recipe) |>\n",
    "      add_model(knn_hours) |>\n",
    "      fit(data = hours_train)\n",
    "\n",
    "hours_fit"
   ]
  },
  {
   "cell_type": "code",
   "execution_count": 7,
   "id": "8720f035-d65b-4ff0-a410-47d23acf10d9",
   "metadata": {},
   "outputs": [
    {
     "data": {
      "text/html": [
       "<table class=\"dataframe\">\n",
       "<caption>A tibble: 49 × 11</caption>\n",
       "<thead>\n",
       "\t<tr><th scope=col>.pred_class</th><th scope=col>experience</th><th scope=col>subscribe</th><th scope=col>hashedEmail</th><th scope=col>played_hours</th><th scope=col>name</th><th scope=col>gender</th><th scope=col>age</th><th scope=col>individualId</th><th scope=col>organizationName</th><th scope=col>cat_hours</th></tr>\n",
       "\t<tr><th scope=col>&lt;fct&gt;</th><th scope=col>&lt;fct&gt;</th><th scope=col>&lt;lgl&gt;</th><th scope=col>&lt;chr&gt;</th><th scope=col>&lt;dbl&gt;</th><th scope=col>&lt;chr&gt;</th><th scope=col>&lt;chr&gt;</th><th scope=col>&lt;dbl&gt;</th><th scope=col>&lt;lgl&gt;</th><th scope=col>&lt;lgl&gt;</th><th scope=col>&lt;fct&gt;</th></tr>\n",
       "</thead>\n",
       "<tbody>\n",
       "\t<tr><td>(-Inf,1]</td><td>Regular</td><td>TRUE</td><td>7dc01f10bf20671ecfccdac23812b1b415acd42c2147cb0af4d48fcce2420f3e</td><td>0.1</td><td>Kylie  </td><td>Male  </td><td>21</td><td>NA</td><td>NA</td><td>(-Inf,1]</td></tr>\n",
       "\t<tr><td>(-Inf,1]</td><td>Amateur</td><td>TRUE</td><td>8b71f4d66a38389b7528bb38ba6eb71157733df7d1740371852a797ae97d82d1</td><td>0.1</td><td>Natalie</td><td>Male  </td><td>17</td><td>NA</td><td>NA</td><td>(-Inf,1]</td></tr>\n",
       "\t<tr><td>(1,3]   </td><td>Veteran</td><td>TRUE</td><td>bbe2d83de678f519c4b3daa7265e683b4fe2d814077f9094afd11d8f217039ec</td><td>0.0</td><td>Nyla   </td><td>Female</td><td>22</td><td>NA</td><td>NA</td><td>(-Inf,1]</td></tr>\n",
       "\t<tr><td>⋮</td><td>⋮</td><td>⋮</td><td>⋮</td><td>⋮</td><td>⋮</td><td>⋮</td><td>⋮</td><td>⋮</td><td>⋮</td><td>⋮</td></tr>\n",
       "\t<tr><td>(-Inf,1]</td><td>Pro     </td><td>FALSE</td><td>f7875ae87a61632030d5c4029ee8cf081be7047b2b4a9c04ab5a706f59786197</td><td>0.2</td><td>Liam  </td><td>Male  </td><td>17</td><td>NA</td><td>NA</td><td>(-Inf,1]</td></tr>\n",
       "\t<tr><td>(-Inf,1]</td><td>Beginner</td><td> TRUE</td><td>8c9d043ebb3689e679a37bfed30ea96272bcd14689ed2d9fcd68a4ae0c1663bc</td><td>0.0</td><td>Lina  </td><td>Female</td><td>17</td><td>NA</td><td>NA</td><td>(-Inf,1]</td></tr>\n",
       "\t<tr><td>(1,3]   </td><td>Veteran </td><td>FALSE</td><td>71453e425f07d10da4fa2b349c83e73ccdf0fb3312f778b35c5802c3292c87bd</td><td>0.3</td><td>Pascal</td><td>Male  </td><td>22</td><td>NA</td><td>NA</td><td>(-Inf,1]</td></tr>\n",
       "</tbody>\n",
       "</table>\n"
      ],
      "text/latex": [
       "A tibble: 49 × 11\n",
       "\\begin{tabular}{lllllllllll}\n",
       " .pred\\_class & experience & subscribe & hashedEmail & played\\_hours & name & gender & age & individualId & organizationName & cat\\_hours\\\\\n",
       " <fct> & <fct> & <lgl> & <chr> & <dbl> & <chr> & <chr> & <dbl> & <lgl> & <lgl> & <fct>\\\\\n",
       "\\hline\n",
       "\t (-Inf,1{]} & Regular & TRUE & 7dc01f10bf20671ecfccdac23812b1b415acd42c2147cb0af4d48fcce2420f3e & 0.1 & Kylie   & Male   & 21 & NA & NA & (-Inf,1{]}\\\\\n",
       "\t (-Inf,1{]} & Amateur & TRUE & 8b71f4d66a38389b7528bb38ba6eb71157733df7d1740371852a797ae97d82d1 & 0.1 & Natalie & Male   & 17 & NA & NA & (-Inf,1{]}\\\\\n",
       "\t (1,3{]}    & Veteran & TRUE & bbe2d83de678f519c4b3daa7265e683b4fe2d814077f9094afd11d8f217039ec & 0.0 & Nyla    & Female & 22 & NA & NA & (-Inf,1{]}\\\\\n",
       "\t ⋮ & ⋮ & ⋮ & ⋮ & ⋮ & ⋮ & ⋮ & ⋮ & ⋮ & ⋮ & ⋮\\\\\n",
       "\t (-Inf,1{]} & Pro      & FALSE & f7875ae87a61632030d5c4029ee8cf081be7047b2b4a9c04ab5a706f59786197 & 0.2 & Liam   & Male   & 17 & NA & NA & (-Inf,1{]}\\\\\n",
       "\t (-Inf,1{]} & Beginner &  TRUE & 8c9d043ebb3689e679a37bfed30ea96272bcd14689ed2d9fcd68a4ae0c1663bc & 0.0 & Lina   & Female & 17 & NA & NA & (-Inf,1{]}\\\\\n",
       "\t (1,3{]}    & Veteran  & FALSE & 71453e425f07d10da4fa2b349c83e73ccdf0fb3312f778b35c5802c3292c87bd & 0.3 & Pascal & Male   & 22 & NA & NA & (-Inf,1{]}\\\\\n",
       "\\end{tabular}\n"
      ],
      "text/markdown": [
       "\n",
       "A tibble: 49 × 11\n",
       "\n",
       "| .pred_class &lt;fct&gt; | experience &lt;fct&gt; | subscribe &lt;lgl&gt; | hashedEmail &lt;chr&gt; | played_hours &lt;dbl&gt; | name &lt;chr&gt; | gender &lt;chr&gt; | age &lt;dbl&gt; | individualId &lt;lgl&gt; | organizationName &lt;lgl&gt; | cat_hours &lt;fct&gt; |\n",
       "|---|---|---|---|---|---|---|---|---|---|---|\n",
       "| (-Inf,1] | Regular | TRUE | 7dc01f10bf20671ecfccdac23812b1b415acd42c2147cb0af4d48fcce2420f3e | 0.1 | Kylie   | Male   | 21 | NA | NA | (-Inf,1] |\n",
       "| (-Inf,1] | Amateur | TRUE | 8b71f4d66a38389b7528bb38ba6eb71157733df7d1740371852a797ae97d82d1 | 0.1 | Natalie | Male   | 17 | NA | NA | (-Inf,1] |\n",
       "| (1,3]    | Veteran | TRUE | bbe2d83de678f519c4b3daa7265e683b4fe2d814077f9094afd11d8f217039ec | 0.0 | Nyla    | Female | 22 | NA | NA | (-Inf,1] |\n",
       "| ⋮ | ⋮ | ⋮ | ⋮ | ⋮ | ⋮ | ⋮ | ⋮ | ⋮ | ⋮ | ⋮ |\n",
       "| (-Inf,1] | Pro      | FALSE | f7875ae87a61632030d5c4029ee8cf081be7047b2b4a9c04ab5a706f59786197 | 0.2 | Liam   | Male   | 17 | NA | NA | (-Inf,1] |\n",
       "| (-Inf,1] | Beginner |  TRUE | 8c9d043ebb3689e679a37bfed30ea96272bcd14689ed2d9fcd68a4ae0c1663bc | 0.0 | Lina   | Female | 17 | NA | NA | (-Inf,1] |\n",
       "| (1,3]    | Veteran  | FALSE | 71453e425f07d10da4fa2b349c83e73ccdf0fb3312f778b35c5802c3292c87bd | 0.3 | Pascal | Male   | 22 | NA | NA | (-Inf,1] |\n",
       "\n"
      ],
      "text/plain": [
       "   .pred_class experience subscribe\n",
       "1  (-Inf,1]    Regular    TRUE     \n",
       "2  (-Inf,1]    Amateur    TRUE     \n",
       "3  (1,3]       Veteran    TRUE     \n",
       "⋮  ⋮           ⋮          ⋮        \n",
       "47 (-Inf,1]    Pro        FALSE    \n",
       "48 (-Inf,1]    Beginner    TRUE    \n",
       "49 (1,3]       Veteran    FALSE    \n",
       "   hashedEmail                                                     \n",
       "1  7dc01f10bf20671ecfccdac23812b1b415acd42c2147cb0af4d48fcce2420f3e\n",
       "2  8b71f4d66a38389b7528bb38ba6eb71157733df7d1740371852a797ae97d82d1\n",
       "3  bbe2d83de678f519c4b3daa7265e683b4fe2d814077f9094afd11d8f217039ec\n",
       "⋮  ⋮                                                               \n",
       "47 f7875ae87a61632030d5c4029ee8cf081be7047b2b4a9c04ab5a706f59786197\n",
       "48 8c9d043ebb3689e679a37bfed30ea96272bcd14689ed2d9fcd68a4ae0c1663bc\n",
       "49 71453e425f07d10da4fa2b349c83e73ccdf0fb3312f778b35c5802c3292c87bd\n",
       "   played_hours name    gender age individualId organizationName cat_hours\n",
       "1  0.1          Kylie   Male   21  NA           NA               (-Inf,1] \n",
       "2  0.1          Natalie Male   17  NA           NA               (-Inf,1] \n",
       "3  0.0          Nyla    Female 22  NA           NA               (-Inf,1] \n",
       "⋮  ⋮            ⋮       ⋮      ⋮   ⋮            ⋮                ⋮        \n",
       "47 0.2          Liam    Male   17  NA           NA               (-Inf,1] \n",
       "48 0.0          Lina    Female 17  NA           NA               (-Inf,1] \n",
       "49 0.3          Pascal  Male   22  NA           NA               (-Inf,1] "
      ]
     },
     "metadata": {},
     "output_type": "display_data"
    },
    {
     "data": {
      "text/html": [
       "<table class=\"dataframe\">\n",
       "<caption>A tibble: 2 × 3</caption>\n",
       "<thead>\n",
       "\t<tr><th scope=col>.metric</th><th scope=col>.estimator</th><th scope=col>.estimate</th></tr>\n",
       "\t<tr><th scope=col>&lt;chr&gt;</th><th scope=col>&lt;chr&gt;</th><th scope=col>&lt;dbl&gt;</th></tr>\n",
       "</thead>\n",
       "<tbody>\n",
       "\t<tr><td>accuracy</td><td>multiclass</td><td> 0.7551020</td></tr>\n",
       "\t<tr><td>kap     </td><td>multiclass</td><td>-0.0729927</td></tr>\n",
       "</tbody>\n",
       "</table>\n"
      ],
      "text/latex": [
       "A tibble: 2 × 3\n",
       "\\begin{tabular}{lll}\n",
       " .metric & .estimator & .estimate\\\\\n",
       " <chr> & <chr> & <dbl>\\\\\n",
       "\\hline\n",
       "\t accuracy & multiclass &  0.7551020\\\\\n",
       "\t kap      & multiclass & -0.0729927\\\\\n",
       "\\end{tabular}\n"
      ],
      "text/markdown": [
       "\n",
       "A tibble: 2 × 3\n",
       "\n",
       "| .metric &lt;chr&gt; | .estimator &lt;chr&gt; | .estimate &lt;dbl&gt; |\n",
       "|---|---|---|\n",
       "| accuracy | multiclass |  0.7551020 |\n",
       "| kap      | multiclass | -0.0729927 |\n",
       "\n"
      ],
      "text/plain": [
       "  .metric  .estimator .estimate \n",
       "1 accuracy multiclass  0.7551020\n",
       "2 kap      multiclass -0.0729927"
      ]
     },
     "metadata": {},
     "output_type": "display_data"
    }
   ],
   "source": [
    "hours_test_predictions <- predict(hours_fit , hours_test) |>\n",
    "      bind_cols(hours_test)\n",
    "\n",
    "hours_test_accuracy <- hours_test_predictions |>\n",
    "    metrics(truth = cat_hours, estimate = .pred_class)\n",
    "\n",
    "# BEST ACCURACY ON TEST DATA\n",
    "\n",
    "hours_test_predictions\n",
    "hours_test_accuracy\n"
   ]
  },
  {
   "cell_type": "code",
   "execution_count": 8,
   "id": "fae3c455-56cf-4758-a758-84aaab423da0",
   "metadata": {},
   "outputs": [
    {
     "data": {
      "text/html": [
       "<table class=\"dataframe\">\n",
       "<caption>A tibble: 1 × 3</caption>\n",
       "<thead>\n",
       "\t<tr><th scope=col>.metric</th><th scope=col>.estimator</th><th scope=col>mean</th></tr>\n",
       "\t<tr><th scope=col>&lt;chr&gt;</th><th scope=col>&lt;chr&gt;</th><th scope=col>&lt;dbl&gt;</th></tr>\n",
       "</thead>\n",
       "<tbody>\n",
       "\t<tr><td>accuracy</td><td>multiclass</td><td>0.7962562</td></tr>\n",
       "</tbody>\n",
       "</table>\n"
      ],
      "text/latex": [
       "A tibble: 1 × 3\n",
       "\\begin{tabular}{lll}\n",
       " .metric & .estimator & mean\\\\\n",
       " <chr> & <chr> & <dbl>\\\\\n",
       "\\hline\n",
       "\t accuracy & multiclass & 0.7962562\\\\\n",
       "\\end{tabular}\n"
      ],
      "text/markdown": [
       "\n",
       "A tibble: 1 × 3\n",
       "\n",
       "| .metric &lt;chr&gt; | .estimator &lt;chr&gt; | mean &lt;dbl&gt; |\n",
       "|---|---|---|\n",
       "| accuracy | multiclass | 0.7962562 |\n",
       "\n"
      ],
      "text/plain": [
       "  .metric  .estimator mean     \n",
       "1 accuracy multiclass 0.7962562"
      ]
     },
     "metadata": {},
     "output_type": "display_data"
    }
   ],
   "source": [
    "# BEST ACCURACY ON TRAIN DATA\n",
    "best_accuracy_test <- best_accuracy_train |>\n",
    "    select(.metric,.estimator,mean)\n",
    "best_accuracy_test"
   ]
  }
 ],
 "metadata": {
  "kernelspec": {
   "display_name": "R",
   "language": "R",
   "name": "ir"
  },
  "language_info": {
   "codemirror_mode": "r",
   "file_extension": ".r",
   "mimetype": "text/x-r-source",
   "name": "R",
   "pygments_lexer": "r",
   "version": "4.4.1"
  }
 },
 "nbformat": 4,
 "nbformat_minor": 5
}
