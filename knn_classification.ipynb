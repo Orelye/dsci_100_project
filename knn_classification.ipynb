{
 "cells": [
  {
   "cell_type": "code",
   "execution_count": 1,
   "id": "07d8b6a2-a725-4919-90dd-400686a2836a",
   "metadata": {
    "vscode": {
     "languageId": "r"
    }
   },
   "outputs": [
    {
     "name": "stderr",
     "output_type": "stream",
     "text": [
      "── \u001b[1mAttaching core tidyverse packages\u001b[22m ──────────────────────── tidyverse 2.0.0 ──\n",
      "\u001b[32m✔\u001b[39m \u001b[34mdplyr    \u001b[39m 1.1.4     \u001b[32m✔\u001b[39m \u001b[34mreadr    \u001b[39m 2.1.5\n",
      "\u001b[32m✔\u001b[39m \u001b[34mforcats  \u001b[39m 1.0.0     \u001b[32m✔\u001b[39m \u001b[34mstringr  \u001b[39m 1.5.1\n",
      "\u001b[32m✔\u001b[39m \u001b[34mggplot2  \u001b[39m 3.5.1     \u001b[32m✔\u001b[39m \u001b[34mtibble   \u001b[39m 3.2.1\n",
      "\u001b[32m✔\u001b[39m \u001b[34mlubridate\u001b[39m 1.9.3     \u001b[32m✔\u001b[39m \u001b[34mtidyr    \u001b[39m 1.3.1\n",
      "\u001b[32m✔\u001b[39m \u001b[34mpurrr    \u001b[39m 1.0.2     \n",
      "── \u001b[1mConflicts\u001b[22m ────────────────────────────────────────── tidyverse_conflicts() ──\n",
      "\u001b[31m✖\u001b[39m \u001b[34mdplyr\u001b[39m::\u001b[32mfilter()\u001b[39m masks \u001b[34mstats\u001b[39m::filter()\n",
      "\u001b[31m✖\u001b[39m \u001b[34mdplyr\u001b[39m::\u001b[32mlag()\u001b[39m    masks \u001b[34mstats\u001b[39m::lag()\n",
      "\u001b[36mℹ\u001b[39m Use the conflicted package (\u001b[3m\u001b[34m<http://conflicted.r-lib.org/>\u001b[39m\u001b[23m) to force all conflicts to become errors\n",
      "── \u001b[1mAttaching packages\u001b[22m ────────────────────────────────────── tidymodels 1.2.0 ──\n",
      "\n",
      "\u001b[32m✔\u001b[39m \u001b[34mbroom       \u001b[39m 1.0.7     \u001b[32m✔\u001b[39m \u001b[34mrsample     \u001b[39m 1.2.1\n",
      "\u001b[32m✔\u001b[39m \u001b[34mdials       \u001b[39m 1.3.0     \u001b[32m✔\u001b[39m \u001b[34mtune        \u001b[39m 1.2.1\n",
      "\u001b[32m✔\u001b[39m \u001b[34minfer       \u001b[39m 1.0.7     \u001b[32m✔\u001b[39m \u001b[34mworkflows   \u001b[39m 1.1.4\n",
      "\u001b[32m✔\u001b[39m \u001b[34mmodeldata   \u001b[39m 1.4.0     \u001b[32m✔\u001b[39m \u001b[34mworkflowsets\u001b[39m 1.1.0\n",
      "\u001b[32m✔\u001b[39m \u001b[34mparsnip     \u001b[39m 1.2.1     \u001b[32m✔\u001b[39m \u001b[34myardstick   \u001b[39m 1.3.1\n",
      "\u001b[32m✔\u001b[39m \u001b[34mrecipes     \u001b[39m 1.1.0     \n",
      "\n",
      "── \u001b[1mConflicts\u001b[22m ───────────────────────────────────────── tidymodels_conflicts() ──\n",
      "\u001b[31m✖\u001b[39m \u001b[34mscales\u001b[39m::\u001b[32mdiscard()\u001b[39m masks \u001b[34mpurrr\u001b[39m::discard()\n",
      "\u001b[31m✖\u001b[39m \u001b[34mdplyr\u001b[39m::\u001b[32mfilter()\u001b[39m   masks \u001b[34mstats\u001b[39m::filter()\n",
      "\u001b[31m✖\u001b[39m \u001b[34mrecipes\u001b[39m::\u001b[32mfixed()\u001b[39m  masks \u001b[34mstringr\u001b[39m::fixed()\n",
      "\u001b[31m✖\u001b[39m \u001b[34mdplyr\u001b[39m::\u001b[32mlag()\u001b[39m      masks \u001b[34mstats\u001b[39m::lag()\n",
      "\u001b[31m✖\u001b[39m \u001b[34myardstick\u001b[39m::\u001b[32mspec()\u001b[39m masks \u001b[34mreadr\u001b[39m::spec()\n",
      "\u001b[31m✖\u001b[39m \u001b[34mrecipes\u001b[39m::\u001b[32mstep()\u001b[39m   masks \u001b[34mstats\u001b[39m::step()\n",
      "\u001b[34m•\u001b[39m Search for functions across packages at \u001b[32mhttps://www.tidymodels.org/find/\u001b[39m\n",
      "\n"
     ]
    }
   ],
   "source": [
    "library(tidyverse)\n",
    "library(repr)\n",
    "library(tidymodels)\n",
    "options(repr.matrix.max.rows = 6)"
   ]
  },
  {
   "cell_type": "code",
   "execution_count": 11,
   "id": "c730f84e-2ebe-4989-a0a8-03d3933db0a4",
   "metadata": {
    "vscode": {
     "languageId": "r"
    }
   },
   "outputs": [
    {
     "name": "stderr",
     "output_type": "stream",
     "text": [
      "\u001b[1mRows: \u001b[22m\u001b[34m196\u001b[39m \u001b[1mColumns: \u001b[22m\u001b[34m9\u001b[39m\n",
      "\u001b[36m──\u001b[39m \u001b[1mColumn specification\u001b[22m \u001b[36m────────────────────────────────────────────────────────\u001b[39m\n",
      "\u001b[1mDelimiter:\u001b[22m \",\"\n",
      "\u001b[31mchr\u001b[39m (4): experience, hashedEmail, name, gender\n",
      "\u001b[32mdbl\u001b[39m (2): played_hours, age\n",
      "\u001b[33mlgl\u001b[39m (3): subscribe, individualId, organizationName\n",
      "\n",
      "\u001b[36mℹ\u001b[39m Use `spec()` to retrieve the full column specification for this data.\n",
      "\u001b[36mℹ\u001b[39m Specify the column types or set `show_col_types = FALSE` to quiet this message.\n"
     ]
    },
    {
     "data": {
      "text/html": [
       "<table class=\"dataframe\">\n",
       "<caption>A tibble: 0 × 10</caption>\n",
       "<thead>\n",
       "\t<tr><th scope=col>experience</th><th scope=col>subscribe</th><th scope=col>hashedEmail</th><th scope=col>played_hours</th><th scope=col>name</th><th scope=col>gender</th><th scope=col>age</th><th scope=col>individualId</th><th scope=col>organizationName</th><th scope=col>cat_hours</th></tr>\n",
       "\t<tr><th scope=col>&lt;fct&gt;</th><th scope=col>&lt;lgl&gt;</th><th scope=col>&lt;chr&gt;</th><th scope=col>&lt;dbl&gt;</th><th scope=col>&lt;chr&gt;</th><th scope=col>&lt;chr&gt;</th><th scope=col>&lt;dbl&gt;</th><th scope=col>&lt;lgl&gt;</th><th scope=col>&lt;lgl&gt;</th><th scope=col>&lt;fct&gt;</th></tr>\n",
       "</thead>\n",
       "<tbody>\n",
       "</tbody>\n",
       "</table>\n"
      ],
      "text/latex": [
       "A tibble: 0 × 10\n",
       "\\begin{tabular}{llllllllll}\n",
       " experience & subscribe & hashedEmail & played\\_hours & name & gender & age & individualId & organizationName & cat\\_hours\\\\\n",
       " <fct> & <lgl> & <chr> & <dbl> & <chr> & <chr> & <dbl> & <lgl> & <lgl> & <fct>\\\\\n",
       "\\hline\n",
       "\\end{tabular}\n"
      ],
      "text/markdown": [
       "\n",
       "A tibble: 0 × 10\n",
       "\n",
       "| experience &lt;fct&gt; | subscribe &lt;lgl&gt; | hashedEmail &lt;chr&gt; | played_hours &lt;dbl&gt; | name &lt;chr&gt; | gender &lt;chr&gt; | age &lt;dbl&gt; | individualId &lt;lgl&gt; | organizationName &lt;lgl&gt; | cat_hours &lt;fct&gt; |\n",
       "|---|---|---|---|---|---|---|---|---|---|\n",
       "\n"
      ],
      "text/plain": [
       "     experience subscribe hashedEmail played_hours name gender age individualId\n",
       "     organizationName cat_hours"
      ]
     },
     "metadata": {},
     "output_type": "display_data"
    }
   ],
   "source": [
    "player_data <- read_csv(\"data/players.csv\") |>\n",
    "    mutate(experience = as.factor(experience))\n",
    "\n",
    "player_data <- player_data |> \n",
    "    mutate(cat_hours = cut(played_hours, breaks = c(-Inf,1,2,3,4, 5, 6, 7, 8, 9, 10, 11, 12, 13, 14, 15,16,17,18,19,20, Inf)))\n",
    "\n",
    "player_data <- player_data |> filter(played_hours <0)\n",
    "player_data"
   ]
  },
  {
   "cell_type": "code",
   "execution_count": 3,
   "id": "33ea5a53-e11e-49e2-a53e-5a8164bcd4e1",
   "metadata": {
    "vscode": {
     "languageId": "r"
    }
   },
   "outputs": [],
   "source": [
    "set.seed(3456) \n",
    "\n",
    "hours_split <- initial_split(player_data, prop = 0.75, strata = cat_hours)  \n",
    "hours_train <- training(hours_split)   \n",
    "hours_test <- testing(hours_split)"
   ]
  },
  {
   "cell_type": "code",
   "execution_count": 4,
   "id": "768f9495-b0d9-4e99-9966-7913e7a4f4d4",
   "metadata": {
    "vscode": {
     "languageId": "r"
    }
   },
   "outputs": [
    {
     "name": "stderr",
     "output_type": "stream",
     "text": [
      "→ \u001b[33m\u001b[1mA\u001b[22m\u001b[39m | \u001b[33mwarning\u001b[39m: \u001b[1m\u001b[22m\u001b[31m✖\u001b[39m No observations were detected in `truth` for levels: (3,4], (4,5], (6,7],\n",
      "                 (7,8], (8,9], (9,10], (10,11], (11,12], (12,13], (13,14], (14,15], (15,16],\n",
      "                 (16,17], (17,18], (19,20], and (20, Inf].\n",
      "               \u001b[36mℹ\u001b[39m Computation will proceed by ignoring those levels.\n",
      "\n",
      "There were issues with some computations   \u001b[1m\u001b[33mA\u001b[39m\u001b[22m: x1\u001b[K\n",
      "\u001b[K\n",
      "→ \u001b[33m\u001b[1mB\u001b[22m\u001b[39m | \u001b[33mwarning\u001b[39m: \u001b[1m\u001b[22m\u001b[31m✖\u001b[39m No observations were detected in `truth` for levels: (3,4], (4,5], (5,6],\n",
      "                 (6,7], (7,8], (8,9], (9,10], (10,11], (11,12], (12,13], (13,14], (14,15],\n",
      "                 (15,16], (16,17], (17,18], (18,19], and (19,20].\n",
      "               \u001b[36mℹ\u001b[39m Computation will proceed by ignoring those levels.\n",
      "\n",
      "There were issues with some computations   \u001b[1m\u001b[33mA\u001b[39m\u001b[22m: x1\n",
      "There were issues with some computations   \u001b[1m\u001b[33mA\u001b[39m\u001b[22m: x1   \u001b[1m\u001b[33mB\u001b[39m\u001b[22m: x1\u001b[K\n",
      "\u001b[K\n",
      "→ \u001b[33m\u001b[1mC\u001b[22m\u001b[39m | \u001b[33mwarning\u001b[39m: \u001b[1m\u001b[22m\u001b[31m✖\u001b[39m No observations were detected in `truth` for levels: (1,2], (3,4], (4,5],\n",
      "                 (5,6], (6,7], (8,9], (9,10], (10,11], (11,12], (13,14], (14,15], (15,16],\n",
      "                 (16,17], (18,19], and (19,20].\n",
      "               \u001b[36mℹ\u001b[39m Computation will proceed by ignoring those levels.\n",
      "\n",
      "There were issues with some computations   \u001b[1m\u001b[33mA\u001b[39m\u001b[22m: x1   \u001b[1m\u001b[33mB\u001b[39m\u001b[22m: x1\n",
      "There were issues with some computations   \u001b[1m\u001b[33mA\u001b[39m\u001b[22m: x1   \u001b[1m\u001b[33mB\u001b[39m\u001b[22m: x1   \u001b[1m\u001b[33mC\u001b[39m\u001b[22m: x1\u001b[K\n",
      "\u001b[K\n",
      "→ \u001b[33m\u001b[1mD\u001b[22m\u001b[39m | \u001b[33mwarning\u001b[39m: \u001b[1m\u001b[22m\u001b[31m✖\u001b[39m No observations were detected in `truth` for levels: (4,5], (5,6], (6,7],\n",
      "                 (7,8], (8,9], (9,10], (10,11], (11,12], (12,13], (13,14], (14,15], (15,16],\n",
      "                 (16,17], (17,18], (18,19], (19,20], and (20, Inf].\n",
      "               \u001b[36mℹ\u001b[39m Computation will proceed by ignoring those levels.\n",
      "\n",
      "There were issues with some computations   \u001b[1m\u001b[33mA\u001b[39m\u001b[22m: x1   \u001b[1m\u001b[33mB\u001b[39m\u001b[22m: x1   \u001b[1m\u001b[33mC\u001b[39m\u001b[22m: x1\n",
      "There were issues with some computations   \u001b[1m\u001b[33mA\u001b[39m\u001b[22m: x1   \u001b[1m\u001b[33mB\u001b[39m\u001b[22m: x1   \u001b[1m\u001b[33mC\u001b[39m\u001b[22m: x1   \u001b[1m\u001b[33mD\u001b[39m\u001b[22m: x1\u001b[K\n",
      "\u001b[K\n",
      "→ \u001b[33m\u001b[1mE\u001b[22m\u001b[39m | \u001b[33mwarning\u001b[39m: \u001b[1m\u001b[22m\u001b[31m✖\u001b[39m No observations were detected in `truth` for levels: (2,3], (3,4], (4,5],\n",
      "                 (5,6], (6,7], (7,8], (8,9], (9,10], (10,11], (11,12], (12,13], (13,14],\n",
      "                 (14,15], (15,16], (16,17], (17,18], (18,19], and (19,20].\n",
      "               \u001b[36mℹ\u001b[39m Computation will proceed by ignoring those levels.\n",
      "\n",
      "There were issues with some computations   \u001b[1m\u001b[33mA\u001b[39m\u001b[22m: x1   \u001b[1m\u001b[33mB\u001b[39m\u001b[22m: x1   \u001b[1m\u001b[33mC\u001b[39m\u001b[22m: x1   \u001b[1m\u001b[33mD\u001b[39m\u001b[22m: x1\n",
      "There were issues with some computations   \u001b[1m\u001b[33mA\u001b[39m\u001b[22m: x1   \u001b[1m\u001b[33mB\u001b[39m\u001b[22m: x1   \u001b[1m\u001b[33mC\u001b[39m\u001b[22m: x1   \u001b[1m\u001b[33mD\u001b[39m\u001b[22m: x1   \u001b[1m\u001b[33mE\u001b[39m\u001b[22m: x1\u001b[K\n",
      "There were issues with some computations   \u001b[1m\u001b[33mA\u001b[39m\u001b[22m: x1   \u001b[1m\u001b[33mB\u001b[39m\u001b[22m: x1   \u001b[1m\u001b[33mC\u001b[39m\u001b[22m: x1   \u001b[1m\u001b[33mD\u001b[39m\u001b[22m: x1   \u001b[1m\u001b[33mE\u001b[39m\u001b[22m: x1\u001b[K\n",
      "\n",
      "\n"
     ]
    },
    {
     "data": {
      "text/html": [
       "<table class=\"dataframe\">\n",
       "<caption>A tibble: 30 × 7</caption>\n",
       "<thead>\n",
       "\t<tr><th scope=col>neighbors</th><th scope=col>.metric</th><th scope=col>.estimator</th><th scope=col>mean</th><th scope=col>n</th><th scope=col>std_err</th><th scope=col>.config</th></tr>\n",
       "\t<tr><th scope=col>&lt;dbl&gt;</th><th scope=col>&lt;chr&gt;</th><th scope=col>&lt;chr&gt;</th><th scope=col>&lt;dbl&gt;</th><th scope=col>&lt;int&gt;</th><th scope=col>&lt;dbl&gt;</th><th scope=col>&lt;chr&gt;</th></tr>\n",
       "</thead>\n",
       "<tbody>\n",
       "\t<tr><td>1</td><td>accuracy   </td><td>multiclass</td><td>0.6942529</td><td>5</td><td>0.034719494</td><td>Preprocessor1_Model01</td></tr>\n",
       "\t<tr><td>1</td><td>brier_class</td><td>multiclass</td><td>0.3057471</td><td>5</td><td>0.034719494</td><td>Preprocessor1_Model01</td></tr>\n",
       "\t<tr><td>1</td><td>roc_auc    </td><td>hand_till </td><td>0.4852676</td><td>5</td><td>0.004296878</td><td>Preprocessor1_Model01</td></tr>\n",
       "\t<tr><td>⋮</td><td>⋮</td><td>⋮</td><td>⋮</td><td>⋮</td><td>⋮</td><td>⋮</td></tr>\n",
       "\t<tr><td>10</td><td>accuracy   </td><td>multiclass</td><td>0.8096552</td><td>5</td><td>0.01289510</td><td>Preprocessor1_Model10</td></tr>\n",
       "\t<tr><td>10</td><td>brier_class</td><td>multiclass</td><td>0.1761954</td><td>5</td><td>0.01404914</td><td>Preprocessor1_Model10</td></tr>\n",
       "\t<tr><td>10</td><td>roc_auc    </td><td>hand_till </td><td>0.5763545</td><td>5</td><td>0.04202300</td><td>Preprocessor1_Model10</td></tr>\n",
       "</tbody>\n",
       "</table>\n"
      ],
      "text/latex": [
       "A tibble: 30 × 7\n",
       "\\begin{tabular}{lllllll}\n",
       " neighbors & .metric & .estimator & mean & n & std\\_err & .config\\\\\n",
       " <dbl> & <chr> & <chr> & <dbl> & <int> & <dbl> & <chr>\\\\\n",
       "\\hline\n",
       "\t 1 & accuracy    & multiclass & 0.6942529 & 5 & 0.034719494 & Preprocessor1\\_Model01\\\\\n",
       "\t 1 & brier\\_class & multiclass & 0.3057471 & 5 & 0.034719494 & Preprocessor1\\_Model01\\\\\n",
       "\t 1 & roc\\_auc     & hand\\_till  & 0.4852676 & 5 & 0.004296878 & Preprocessor1\\_Model01\\\\\n",
       "\t ⋮ & ⋮ & ⋮ & ⋮ & ⋮ & ⋮ & ⋮\\\\\n",
       "\t 10 & accuracy    & multiclass & 0.8096552 & 5 & 0.01289510 & Preprocessor1\\_Model10\\\\\n",
       "\t 10 & brier\\_class & multiclass & 0.1761954 & 5 & 0.01404914 & Preprocessor1\\_Model10\\\\\n",
       "\t 10 & roc\\_auc     & hand\\_till  & 0.5763545 & 5 & 0.04202300 & Preprocessor1\\_Model10\\\\\n",
       "\\end{tabular}\n"
      ],
      "text/markdown": [
       "\n",
       "A tibble: 30 × 7\n",
       "\n",
       "| neighbors &lt;dbl&gt; | .metric &lt;chr&gt; | .estimator &lt;chr&gt; | mean &lt;dbl&gt; | n &lt;int&gt; | std_err &lt;dbl&gt; | .config &lt;chr&gt; |\n",
       "|---|---|---|---|---|---|---|\n",
       "| 1 | accuracy    | multiclass | 0.6942529 | 5 | 0.034719494 | Preprocessor1_Model01 |\n",
       "| 1 | brier_class | multiclass | 0.3057471 | 5 | 0.034719494 | Preprocessor1_Model01 |\n",
       "| 1 | roc_auc     | hand_till  | 0.4852676 | 5 | 0.004296878 | Preprocessor1_Model01 |\n",
       "| ⋮ | ⋮ | ⋮ | ⋮ | ⋮ | ⋮ | ⋮ |\n",
       "| 10 | accuracy    | multiclass | 0.8096552 | 5 | 0.01289510 | Preprocessor1_Model10 |\n",
       "| 10 | brier_class | multiclass | 0.1761954 | 5 | 0.01404914 | Preprocessor1_Model10 |\n",
       "| 10 | roc_auc     | hand_till  | 0.5763545 | 5 | 0.04202300 | Preprocessor1_Model10 |\n",
       "\n"
      ],
      "text/plain": [
       "   neighbors .metric     .estimator mean      n std_err    \n",
       "1  1         accuracy    multiclass 0.6942529 5 0.034719494\n",
       "2  1         brier_class multiclass 0.3057471 5 0.034719494\n",
       "3  1         roc_auc     hand_till  0.4852676 5 0.004296878\n",
       "⋮  ⋮         ⋮           ⋮          ⋮         ⋮ ⋮          \n",
       "28 10        accuracy    multiclass 0.8096552 5 0.01289510 \n",
       "29 10        brier_class multiclass 0.1761954 5 0.01404914 \n",
       "30 10        roc_auc     hand_till  0.5763545 5 0.04202300 \n",
       "   .config              \n",
       "1  Preprocessor1_Model01\n",
       "2  Preprocessor1_Model01\n",
       "3  Preprocessor1_Model01\n",
       "⋮  ⋮                    \n",
       "28 Preprocessor1_Model10\n",
       "29 Preprocessor1_Model10\n",
       "30 Preprocessor1_Model10"
      ]
     },
     "metadata": {},
     "output_type": "display_data"
    }
   ],
   "source": [
    "hours_recipe <- recipe(cat_hours ~ age + experience, data = hours_train) |>\n",
    "   step_scale(all_numeric_predictors()) |>\n",
    "   step_center(all_numeric_predictors())\n",
    "\n",
    "hours_vfold <- vfold_cv(hours_train, v = 5, strata = cat_hours)\n",
    "\n",
    "knn_tune <- nearest_neighbor(weight_func = \"rectangular\", neighbors = tune()) |>\n",
    "      set_engine(\"kknn\") |>\n",
    "      set_mode(\"classification\")\n",
    "\n",
    "k_vals <- tibble(neighbors = seq(from = 1, to = 10, by = 1))\n",
    "\n",
    "knn_results <- workflow() |>\n",
    "      add_recipe(hours_recipe) |>\n",
    "      add_model(knn_tune) |>\n",
    "      tune_grid(resamples = hours_vfold, grid = k_vals) |>\n",
    "      collect_metrics()\n",
    "\n",
    "knn_results"
   ]
  },
  {
   "cell_type": "code",
   "execution_count": 5,
   "id": "7ff33129-dda9-4fcf-af19-0780f5ad13fb",
   "metadata": {
    "vscode": {
     "languageId": "r"
    }
   },
   "outputs": [
    {
     "data": {
      "text/html": [
       "<table class=\"dataframe\">\n",
       "<caption>A tibble: 5 × 7</caption>\n",
       "<thead>\n",
       "\t<tr><th scope=col>neighbors</th><th scope=col>.metric</th><th scope=col>.estimator</th><th scope=col>mean</th><th scope=col>n</th><th scope=col>std_err</th><th scope=col>.config</th></tr>\n",
       "\t<tr><th scope=col>&lt;dbl&gt;</th><th scope=col>&lt;chr&gt;</th><th scope=col>&lt;chr&gt;</th><th scope=col>&lt;dbl&gt;</th><th scope=col>&lt;int&gt;</th><th scope=col>&lt;dbl&gt;</th><th scope=col>&lt;chr&gt;</th></tr>\n",
       "</thead>\n",
       "<tbody>\n",
       "\t<tr><td> 6</td><td>accuracy</td><td>multiclass</td><td>0.8096552</td><td>5</td><td>0.0128951</td><td>Preprocessor1_Model06</td></tr>\n",
       "\t<tr><td> 7</td><td>accuracy</td><td>multiclass</td><td>0.8096552</td><td>5</td><td>0.0128951</td><td>Preprocessor1_Model07</td></tr>\n",
       "\t<tr><td> 8</td><td>accuracy</td><td>multiclass</td><td>0.8096552</td><td>5</td><td>0.0128951</td><td>Preprocessor1_Model08</td></tr>\n",
       "\t<tr><td> 9</td><td>accuracy</td><td>multiclass</td><td>0.8096552</td><td>5</td><td>0.0128951</td><td>Preprocessor1_Model09</td></tr>\n",
       "\t<tr><td>10</td><td>accuracy</td><td>multiclass</td><td>0.8096552</td><td>5</td><td>0.0128951</td><td>Preprocessor1_Model10</td></tr>\n",
       "</tbody>\n",
       "</table>\n"
      ],
      "text/latex": [
       "A tibble: 5 × 7\n",
       "\\begin{tabular}{lllllll}\n",
       " neighbors & .metric & .estimator & mean & n & std\\_err & .config\\\\\n",
       " <dbl> & <chr> & <chr> & <dbl> & <int> & <dbl> & <chr>\\\\\n",
       "\\hline\n",
       "\t  6 & accuracy & multiclass & 0.8096552 & 5 & 0.0128951 & Preprocessor1\\_Model06\\\\\n",
       "\t  7 & accuracy & multiclass & 0.8096552 & 5 & 0.0128951 & Preprocessor1\\_Model07\\\\\n",
       "\t  8 & accuracy & multiclass & 0.8096552 & 5 & 0.0128951 & Preprocessor1\\_Model08\\\\\n",
       "\t  9 & accuracy & multiclass & 0.8096552 & 5 & 0.0128951 & Preprocessor1\\_Model09\\\\\n",
       "\t 10 & accuracy & multiclass & 0.8096552 & 5 & 0.0128951 & Preprocessor1\\_Model10\\\\\n",
       "\\end{tabular}\n"
      ],
      "text/markdown": [
       "\n",
       "A tibble: 5 × 7\n",
       "\n",
       "| neighbors &lt;dbl&gt; | .metric &lt;chr&gt; | .estimator &lt;chr&gt; | mean &lt;dbl&gt; | n &lt;int&gt; | std_err &lt;dbl&gt; | .config &lt;chr&gt; |\n",
       "|---|---|---|---|---|---|---|\n",
       "|  6 | accuracy | multiclass | 0.8096552 | 5 | 0.0128951 | Preprocessor1_Model06 |\n",
       "|  7 | accuracy | multiclass | 0.8096552 | 5 | 0.0128951 | Preprocessor1_Model07 |\n",
       "|  8 | accuracy | multiclass | 0.8096552 | 5 | 0.0128951 | Preprocessor1_Model08 |\n",
       "|  9 | accuracy | multiclass | 0.8096552 | 5 | 0.0128951 | Preprocessor1_Model09 |\n",
       "| 10 | accuracy | multiclass | 0.8096552 | 5 | 0.0128951 | Preprocessor1_Model10 |\n",
       "\n"
      ],
      "text/plain": [
       "  neighbors .metric  .estimator mean      n std_err   .config              \n",
       "1  6        accuracy multiclass 0.8096552 5 0.0128951 Preprocessor1_Model06\n",
       "2  7        accuracy multiclass 0.8096552 5 0.0128951 Preprocessor1_Model07\n",
       "3  8        accuracy multiclass 0.8096552 5 0.0128951 Preprocessor1_Model08\n",
       "4  9        accuracy multiclass 0.8096552 5 0.0128951 Preprocessor1_Model09\n",
       "5 10        accuracy multiclass 0.8096552 5 0.0128951 Preprocessor1_Model10"
      ]
     },
     "metadata": {},
     "output_type": "display_data"
    },
    {
     "data": {
      "image/png": "[encoded data removed]",
      "text/plain": [
       "plot without title"
      ]
     },
     "metadata": {
      "image/png": {
       "height": 420,
       "width": 420
      }
     },
     "output_type": "display_data"
    }
   ],
   "source": [
    "accuracies <- knn_results |> \n",
    "      filter(.metric == \"accuracy\")\n",
    "\n",
    "accuracy_versus_k <- ggplot(accuracies, aes(x = neighbors, y = mean))+\n",
    "      geom_point() +\n",
    "      geom_line() +\n",
    "      labs(x = \"Neighbors\", y = \"Accuracy Estimate\") +\n",
    "      scale_x_continuous(breaks = seq(0, 14, by = 1)) +  # adjusting the x-axis\n",
    "      scale_y_continuous(limits = c(0.4, 1.0)) # adjusting the y-axis\n",
    "\n",
    "accuracy_versus_k\n",
    "accuracies_max <- accuracies |> \n",
    "  filter(mean == max(mean))\n",
    "accuracies_max"
   ]
  },
  {
   "cell_type": "code",
   "execution_count": 6,
   "id": "bea9c96b-95de-4e7d-93ae-7a71851889f3",
   "metadata": {
    "vscode": {
     "languageId": "r"
    }
   },
   "outputs": [
    {
     "data": {
      "text/plain": [
       "══ Workflow [trained] ══════════════════════════════════════════════════════════\n",
       "\u001b[3mPreprocessor:\u001b[23m Recipe\n",
       "\u001b[3mModel:\u001b[23m nearest_neighbor()\n",
       "\n",
       "── Preprocessor ────────────────────────────────────────────────────────────────\n",
       "2 Recipe Steps\n",
       "\n",
       "• step_scale()\n",
       "• step_center()\n",
       "\n",
       "── Model ───────────────────────────────────────────────────────────────────────\n",
       "\n",
       "Call:\n",
       "kknn::train.kknn(formula = ..y ~ ., data = data, ks = min_rows(2,     data, 5), kernel = ~\"rectangular\")\n",
       "\n",
       "Type of response variable: nominal\n",
       "Minimal misclassification: 0.2040816\n",
       "Best kernel: rectangular\n",
       "Best k: 2"
      ]
     },
     "metadata": {},
     "output_type": "display_data"
    }
   ],
   "source": [
    "set.seed(2020)\n",
    "\n",
    "knn_hours <- nearest_neighbor(weight_func = \"rectangular\", neighbors = 2) |>\n",
    "      set_engine(\"kknn\") |>\n",
    "      set_mode(\"classification\")\n",
    "\n",
    "hours_fit <- workflow() |>\n",
    "      add_recipe(hours_recipe) |>\n",
    "      add_model(knn_hours) |>\n",
    "      fit(data = hours_train)\n",
    "\n",
    "hours_fit"
   ]
  },
  {
   "cell_type": "code",
   "execution_count": 8,
   "id": "8720f035-d65b-4ff0-a410-47d23acf10d9",
   "metadata": {
    "vscode": {
     "languageId": "r"
    }
   },
   "outputs": [
    {
     "data": {
      "text/html": [
       "<table class=\"dataframe\">\n",
       "<caption>A tibble: 7 × 11</caption>\n",
       "<thead>\n",
       "\t<tr><th scope=col>.pred_class</th><th scope=col>experience</th><th scope=col>subscribe</th><th scope=col>hashedEmail</th><th scope=col>played_hours</th><th scope=col>name</th><th scope=col>gender</th><th scope=col>age</th><th scope=col>individualId</th><th scope=col>organizationName</th><th scope=col>cat_hours</th></tr>\n",
       "\t<tr><th scope=col>&lt;fct&gt;</th><th scope=col>&lt;fct&gt;</th><th scope=col>&lt;lgl&gt;</th><th scope=col>&lt;chr&gt;</th><th scope=col>&lt;dbl&gt;</th><th scope=col>&lt;chr&gt;</th><th scope=col>&lt;chr&gt;</th><th scope=col>&lt;dbl&gt;</th><th scope=col>&lt;lgl&gt;</th><th scope=col>&lt;lgl&gt;</th><th scope=col>&lt;fct&gt;</th></tr>\n",
       "</thead>\n",
       "<tbody>\n",
       "\t<tr><td>(-Inf,1]</td><td>Amateur</td><td>TRUE</td><td>a175d4741dc84e6baf77901f6e8e0a06f54809a34e6b5211159bced346f7fb3e</td><td>48.4</td><td>Xander</td><td>Female</td><td>17</td><td>NA</td><td>NA</td><td>(20, Inf]</td></tr>\n",
       "\t<tr><td>(17,18] </td><td>Amateur</td><td>TRUE</td><td>8e0aac3020b3fd9cdef4840b533b4b105aaf1ce1f6f2df3f328ba2a44cecfdc1</td><td> 2.9</td><td>Rafael</td><td>Male  </td><td>11</td><td>NA</td><td>NA</td><td>(2,3]    </td></tr>\n",
       "\t<tr><td>(-Inf,1]</td><td>Regular</td><td>TRUE</td><td>f2826fb8dbce4d450348f99cb27ade184b713998d9679780442efaaf218038f2</td><td> 3.6</td><td>Zane  </td><td>Male  </td><td>10</td><td>NA</td><td>NA</td><td>(3,4]    </td></tr>\n",
       "\t<tr><td>⋮</td><td>⋮</td><td>⋮</td><td>⋮</td><td>⋮</td><td>⋮</td><td>⋮</td><td>⋮</td><td>⋮</td><td>⋮</td><td>⋮</td></tr>\n",
       "\t<tr><td>(-Inf,1]</td><td>Regular </td><td>TRUE</td><td>336adf9b9070abb44eaec22a48b04d8cda6cf0c98a46eef37779a1dcb6f5b4bb</td><td> 4.0</td><td>Scarlett</td><td>Male</td><td>21</td><td>NA</td><td>NA</td><td>(3,4]    </td></tr>\n",
       "\t<tr><td>(-Inf,1]</td><td>Amateur </td><td>TRUE</td><td>fd6563a4e0f6f4273580e5fedbd8dda64990447aea5a33cbb5e894a3867ca44d</td><td>56.1</td><td>Dana    </td><td>Male</td><td>23</td><td>NA</td><td>NA</td><td>(20, Inf]</td></tr>\n",
       "\t<tr><td>(-Inf,1]</td><td>Beginner</td><td>TRUE</td><td>9782452b8e41d1f140374eec34c84f464df6ed12e2777e5b4f7150912b8ab78c</td><td>23.7</td><td>Isla    </td><td>Male</td><td>24</td><td>NA</td><td>NA</td><td>(20, Inf]</td></tr>\n",
       "</tbody>\n",
       "</table>\n"
      ],
      "text/latex": [
       "A tibble: 7 × 11\n",
       "\\begin{tabular}{lllllllllll}\n",
       " .pred\\_class & experience & subscribe & hashedEmail & played\\_hours & name & gender & age & individualId & organizationName & cat\\_hours\\\\\n",
       " <fct> & <fct> & <lgl> & <chr> & <dbl> & <chr> & <chr> & <dbl> & <lgl> & <lgl> & <fct>\\\\\n",
       "\\hline\n",
       "\t (-Inf,1{]} & Amateur & TRUE & a175d4741dc84e6baf77901f6e8e0a06f54809a34e6b5211159bced346f7fb3e & 48.4 & Xander & Female & 17 & NA & NA & (20, Inf{]}\\\\\n",
       "\t (17,18{]}  & Amateur & TRUE & 8e0aac3020b3fd9cdef4840b533b4b105aaf1ce1f6f2df3f328ba2a44cecfdc1 &  2.9 & Rafael & Male   & 11 & NA & NA & (2,3{]}    \\\\\n",
       "\t (-Inf,1{]} & Regular & TRUE & f2826fb8dbce4d450348f99cb27ade184b713998d9679780442efaaf218038f2 &  3.6 & Zane   & Male   & 10 & NA & NA & (3,4{]}    \\\\\n",
       "\t ⋮ & ⋮ & ⋮ & ⋮ & ⋮ & ⋮ & ⋮ & ⋮ & ⋮ & ⋮ & ⋮\\\\\n",
       "\t (-Inf,1{]} & Regular  & TRUE & 336adf9b9070abb44eaec22a48b04d8cda6cf0c98a46eef37779a1dcb6f5b4bb &  4.0 & Scarlett & Male & 21 & NA & NA & (3,4{]}    \\\\\n",
       "\t (-Inf,1{]} & Amateur  & TRUE & fd6563a4e0f6f4273580e5fedbd8dda64990447aea5a33cbb5e894a3867ca44d & 56.1 & Dana     & Male & 23 & NA & NA & (20, Inf{]}\\\\\n",
       "\t (-Inf,1{]} & Beginner & TRUE & 9782452b8e41d1f140374eec34c84f464df6ed12e2777e5b4f7150912b8ab78c & 23.7 & Isla     & Male & 24 & NA & NA & (20, Inf{]}\\\\\n",
       "\\end{tabular}\n"
      ],
      "text/markdown": [
       "\n",
       "A tibble: 7 × 11\n",
       "\n",
       "| .pred_class &lt;fct&gt; | experience &lt;fct&gt; | subscribe &lt;lgl&gt; | hashedEmail &lt;chr&gt; | played_hours &lt;dbl&gt; | name &lt;chr&gt; | gender &lt;chr&gt; | age &lt;dbl&gt; | individualId &lt;lgl&gt; | organizationName &lt;lgl&gt; | cat_hours &lt;fct&gt; |\n",
       "|---|---|---|---|---|---|---|---|---|---|---|\n",
       "| (-Inf,1] | Amateur | TRUE | a175d4741dc84e6baf77901f6e8e0a06f54809a34e6b5211159bced346f7fb3e | 48.4 | Xander | Female | 17 | NA | NA | (20, Inf] |\n",
       "| (17,18]  | Amateur | TRUE | 8e0aac3020b3fd9cdef4840b533b4b105aaf1ce1f6f2df3f328ba2a44cecfdc1 |  2.9 | Rafael | Male   | 11 | NA | NA | (2,3]     |\n",
       "| (-Inf,1] | Regular | TRUE | f2826fb8dbce4d450348f99cb27ade184b713998d9679780442efaaf218038f2 |  3.6 | Zane   | Male   | 10 | NA | NA | (3,4]     |\n",
       "| ⋮ | ⋮ | ⋮ | ⋮ | ⋮ | ⋮ | ⋮ | ⋮ | ⋮ | ⋮ | ⋮ |\n",
       "| (-Inf,1] | Regular  | TRUE | 336adf9b9070abb44eaec22a48b04d8cda6cf0c98a46eef37779a1dcb6f5b4bb |  4.0 | Scarlett | Male | 21 | NA | NA | (3,4]     |\n",
       "| (-Inf,1] | Amateur  | TRUE | fd6563a4e0f6f4273580e5fedbd8dda64990447aea5a33cbb5e894a3867ca44d | 56.1 | Dana     | Male | 23 | NA | NA | (20, Inf] |\n",
       "| (-Inf,1] | Beginner | TRUE | 9782452b8e41d1f140374eec34c84f464df6ed12e2777e5b4f7150912b8ab78c | 23.7 | Isla     | Male | 24 | NA | NA | (20, Inf] |\n",
       "\n"
      ],
      "text/plain": [
       "  .pred_class experience subscribe\n",
       "1 (-Inf,1]    Amateur    TRUE     \n",
       "2 (17,18]     Amateur    TRUE     \n",
       "3 (-Inf,1]    Regular    TRUE     \n",
       "⋮ ⋮           ⋮          ⋮        \n",
       "5 (-Inf,1]    Regular    TRUE     \n",
       "6 (-Inf,1]    Amateur    TRUE     \n",
       "7 (-Inf,1]    Beginner   TRUE     \n",
       "  hashedEmail                                                      played_hours\n",
       "1 a175d4741dc84e6baf77901f6e8e0a06f54809a34e6b5211159bced346f7fb3e 48.4        \n",
       "2 8e0aac3020b3fd9cdef4840b533b4b105aaf1ce1f6f2df3f328ba2a44cecfdc1  2.9        \n",
       "3 f2826fb8dbce4d450348f99cb27ade184b713998d9679780442efaaf218038f2  3.6        \n",
       "⋮ ⋮                                                                ⋮           \n",
       "5 336adf9b9070abb44eaec22a48b04d8cda6cf0c98a46eef37779a1dcb6f5b4bb  4.0        \n",
       "6 fd6563a4e0f6f4273580e5fedbd8dda64990447aea5a33cbb5e894a3867ca44d 56.1        \n",
       "7 9782452b8e41d1f140374eec34c84f464df6ed12e2777e5b4f7150912b8ab78c 23.7        \n",
       "  name     gender age individualId organizationName cat_hours\n",
       "1 Xander   Female 17  NA           NA               (20, Inf]\n",
       "2 Rafael   Male   11  NA           NA               (2,3]    \n",
       "3 Zane     Male   10  NA           NA               (3,4]    \n",
       "⋮ ⋮        ⋮      ⋮   ⋮            ⋮                ⋮        \n",
       "5 Scarlett Male   21  NA           NA               (3,4]    \n",
       "6 Dana     Male   23  NA           NA               (20, Inf]\n",
       "7 Isla     Male   24  NA           NA               (20, Inf]"
      ]
     },
     "metadata": {},
     "output_type": "display_data"
    },
    {
     "data": {
      "text/html": [
       "<table class=\"dataframe\">\n",
       "<caption>A tibble: 2 × 3</caption>\n",
       "<thead>\n",
       "\t<tr><th scope=col>.metric</th><th scope=col>.estimator</th><th scope=col>.estimate</th></tr>\n",
       "\t<tr><th scope=col>&lt;chr&gt;</th><th scope=col>&lt;chr&gt;</th><th scope=col>&lt;dbl&gt;</th></tr>\n",
       "</thead>\n",
       "<tbody>\n",
       "\t<tr><td>accuracy</td><td>multiclass</td><td> 0.67346939</td></tr>\n",
       "\t<tr><td>kap     </td><td>multiclass</td><td>-0.05234899</td></tr>\n",
       "</tbody>\n",
       "</table>\n"
      ],
      "text/latex": [
       "A tibble: 2 × 3\n",
       "\\begin{tabular}{lll}\n",
       " .metric & .estimator & .estimate\\\\\n",
       " <chr> & <chr> & <dbl>\\\\\n",
       "\\hline\n",
       "\t accuracy & multiclass &  0.67346939\\\\\n",
       "\t kap      & multiclass & -0.05234899\\\\\n",
       "\\end{tabular}\n"
      ],
      "text/markdown": [
       "\n",
       "A tibble: 2 × 3\n",
       "\n",
       "| .metric &lt;chr&gt; | .estimator &lt;chr&gt; | .estimate &lt;dbl&gt; |\n",
       "|---|---|---|\n",
       "| accuracy | multiclass |  0.67346939 |\n",
       "| kap      | multiclass | -0.05234899 |\n",
       "\n"
      ],
      "text/plain": [
       "  .metric  .estimator .estimate  \n",
       "1 accuracy multiclass  0.67346939\n",
       "2 kap      multiclass -0.05234899"
      ]
     },
     "metadata": {},
     "output_type": "display_data"
    }
   ],
   "source": [
    "hours_test_predictions <- predict(hours_fit , hours_test) |>\n",
    "      bind_cols(hours_test)\n",
    "\n",
    "hours_test_accuracy <- hours_test_predictions |>\n",
    "    metrics(truth = cat_hours, estimate = .pred_class)\n",
    "\n",
    "hours_test_predictions <- hours_test_predictions %>% filter(played_hours>2)\n",
    "\n",
    "hours_test_predictions\n",
    "hours_test_accuracy"
   ]
  },
  {
   "cell_type": "markdown",
   "id": "38a07f6a-bb89-49c0-ab1d-59723b61e821",
   "metadata": {
    "vscode": {
     "languageId": "r"
    }
   },
   "source": [
    "0.8367347\n",
    "0.8367347\n",
    "0.8367347"
   ]
  }
 ],
 "metadata": {
  "kernelspec": {
   "display_name": "R",
   "language": "R",
   "name": "ir"
  },
  "language_info": {
   "codemirror_mode": "r",
   "file_extension": ".r",
   "mimetype": "text/x-r-source",
   "name": "R",
   "pygments_lexer": "r",
   "version": "4.4.1"
  }
 },
 "nbformat": 4,
 "nbformat_minor": 5
}
